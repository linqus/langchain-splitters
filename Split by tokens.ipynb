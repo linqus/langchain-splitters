{
 "cells": [
  {
   "cell_type": "markdown",
   "metadata": {},
   "source": [
    "# tiktoken"
   ]
  },
  {
   "cell_type": "code",
   "execution_count": 1,
   "metadata": {},
   "outputs": [
    {
     "name": "stdout",
     "output_type": "stream",
     "text": [
      "Requirement already satisfied: tiktoken in c:\\users\\linkiewicz_k\\appdata\\local\\packages\\pythonsoftwarefoundation.python.3.11_qbz5n2kfra8p0\\localcache\\local-packages\\python311\\site-packages (0.6.0)\n",
      "Requirement already satisfied: regex>=2022.1.18 in c:\\users\\linkiewicz_k\\appdata\\local\\packages\\pythonsoftwarefoundation.python.3.11_qbz5n2kfra8p0\\localcache\\local-packages\\python311\\site-packages (from tiktoken) (2023.12.25)\n",
      "Requirement already satisfied: requests>=2.26.0 in c:\\users\\linkiewicz_k\\appdata\\local\\packages\\pythonsoftwarefoundation.python.3.11_qbz5n2kfra8p0\\localcache\\local-packages\\python311\\site-packages (from tiktoken) (2.31.0)\n",
      "Requirement already satisfied: charset-normalizer<4,>=2 in c:\\users\\linkiewicz_k\\appdata\\local\\packages\\pythonsoftwarefoundation.python.3.11_qbz5n2kfra8p0\\localcache\\local-packages\\python311\\site-packages (from requests>=2.26.0->tiktoken) (3.3.2)\n",
      "Requirement already satisfied: idna<4,>=2.5 in c:\\users\\linkiewicz_k\\appdata\\local\\packages\\pythonsoftwarefoundation.python.3.11_qbz5n2kfra8p0\\localcache\\local-packages\\python311\\site-packages (from requests>=2.26.0->tiktoken) (3.6)\n",
      "Requirement already satisfied: urllib3<3,>=1.21.1 in c:\\users\\linkiewicz_k\\appdata\\local\\packages\\pythonsoftwarefoundation.python.3.11_qbz5n2kfra8p0\\localcache\\local-packages\\python311\\site-packages (from requests>=2.26.0->tiktoken) (2.2.1)\n",
      "Requirement already satisfied: certifi>=2017.4.17 in c:\\users\\linkiewicz_k\\appdata\\local\\packages\\pythonsoftwarefoundation.python.3.11_qbz5n2kfra8p0\\localcache\\local-packages\\python311\\site-packages (from requests>=2.26.0->tiktoken) (2024.2.2)\n",
      "Note: you may need to restart the kernel to use updated packages.\n"
     ]
    }
   ],
   "source": [
    "%pip install tiktoken"
   ]
  },
  {
   "cell_type": "code",
   "execution_count": 2,
   "metadata": {},
   "outputs": [
    {
     "name": "stderr",
     "output_type": "stream",
     "text": [
      "Created a chunk of size 123, which is longer than the specified 100\n",
      "Created a chunk of size 104, which is longer than the specified 100\n",
      "Created a chunk of size 109, which is longer than the specified 100\n",
      "Created a chunk of size 106, which is longer than the specified 100\n",
      "Created a chunk of size 129, which is longer than the specified 100\n",
      "Created a chunk of size 111, which is longer than the specified 100\n",
      "Created a chunk of size 118, which is longer than the specified 100\n",
      "Created a chunk of size 132, which is longer than the specified 100\n",
      "Created a chunk of size 231, which is longer than the specified 100\n",
      "Created a chunk of size 177, which is longer than the specified 100\n",
      "Created a chunk of size 112, which is longer than the specified 100\n",
      "Created a chunk of size 130, which is longer than the specified 100\n",
      "Created a chunk of size 116, which is longer than the specified 100\n",
      "Created a chunk of size 184, which is longer than the specified 100\n",
      "Created a chunk of size 139, which is longer than the specified 100\n",
      "Created a chunk of size 112, which is longer than the specified 100\n",
      "Created a chunk of size 151, which is longer than the specified 100\n",
      "Created a chunk of size 203, which is longer than the specified 100\n",
      "Created a chunk of size 138, which is longer than the specified 100\n",
      "Created a chunk of size 123, which is longer than the specified 100\n",
      "Created a chunk of size 213, which is longer than the specified 100\n",
      "Created a chunk of size 134, which is longer than the specified 100\n",
      "Created a chunk of size 130, which is longer than the specified 100\n",
      "Created a chunk of size 125, which is longer than the specified 100\n",
      "Created a chunk of size 139, which is longer than the specified 100\n",
      "Created a chunk of size 111, which is longer than the specified 100\n",
      "Created a chunk of size 130, which is longer than the specified 100\n",
      "Created a chunk of size 124, which is longer than the specified 100\n"
     ]
    },
    {
     "name": "stdout",
     "output_type": "stream",
     "text": [
      "Madame Speaker, Vice President Biden, members of Congress, distinguished guests, and fellow Americans:\n",
      "\n",
      "Our Constitution declares that from time to time, the president shall give to Congress information about the state of our union. For 220 years, our leaders have fulfilled this duty. They have done so during periods of prosperity and tranquility. And they have done so in the midst of war and depression; at moments of great strife and great struggle.\n"
     ]
    }
   ],
   "source": [
    "# This is a long document we can split up.\n",
    "with open(\"example_data/state_of_the_union.txt\") as f:\n",
    "    state_of_the_union = f.read()\n",
    "from langchain.text_splitter import CharacterTextSplitter\n",
    "\n",
    "text_splitter = CharacterTextSplitter.from_tiktoken_encoder(\n",
    "    chunk_size=100, chunk_overlap=0\n",
    ")\n",
    "texts = text_splitter.split_text(state_of_the_union)\n",
    "\n",
    "print(texts[0])"
   ]
  },
  {
   "cell_type": "code",
   "execution_count": 3,
   "metadata": {},
   "outputs": [
    {
     "name": "stdout",
     "output_type": "stream",
     "text": [
      "Madame Speaker, Vice President Biden, members of\n"
     ]
    }
   ],
   "source": [
    "from langchain.text_splitter import TokenTextSplitter\n",
    "\n",
    "text_splitter = TokenTextSplitter(chunk_size=10, chunk_overlap=0)\n",
    "\n",
    "texts = text_splitter.split_text(state_of_the_union)\n",
    "print(texts[0])"
   ]
  },
  {
   "cell_type": "markdown",
   "metadata": {},
   "source": [
    "# spaCy"
   ]
  },
  {
   "cell_type": "code",
   "execution_count": 7,
   "metadata": {},
   "outputs": [
    {
     "name": "stdout",
     "output_type": "stream",
     "text": [
      "Requirement already satisfied: spacy in c:\\users\\linkiewicz_k\\appdata\\local\\packages\\pythonsoftwarefoundation.python.3.11_qbz5n2kfra8p0\\localcache\\local-packages\\python311\\site-packages (3.7.4)\n",
      "Requirement already satisfied: spacy-legacy<3.1.0,>=3.0.11 in c:\\users\\linkiewicz_k\\appdata\\local\\packages\\pythonsoftwarefoundation.python.3.11_qbz5n2kfra8p0\\localcache\\local-packages\\python311\\site-packages (from spacy) (3.0.12)\n",
      "Requirement already satisfied: spacy-loggers<2.0.0,>=1.0.0 in c:\\users\\linkiewicz_k\\appdata\\local\\packages\\pythonsoftwarefoundation.python.3.11_qbz5n2kfra8p0\\localcache\\local-packages\\python311\\site-packages (from spacy) (1.0.5)\n",
      "Requirement already satisfied: murmurhash<1.1.0,>=0.28.0 in c:\\users\\linkiewicz_k\\appdata\\local\\packages\\pythonsoftwarefoundation.python.3.11_qbz5n2kfra8p0\\localcache\\local-packages\\python311\\site-packages (from spacy) (1.0.10)\n",
      "Requirement already satisfied: cymem<2.1.0,>=2.0.2 in c:\\users\\linkiewicz_k\\appdata\\local\\packages\\pythonsoftwarefoundation.python.3.11_qbz5n2kfra8p0\\localcache\\local-packages\\python311\\site-packages (from spacy) (2.0.8)\n",
      "Requirement already satisfied: preshed<3.1.0,>=3.0.2 in c:\\users\\linkiewicz_k\\appdata\\local\\packages\\pythonsoftwarefoundation.python.3.11_qbz5n2kfra8p0\\localcache\\local-packages\\python311\\site-packages (from spacy) (3.0.9)\n",
      "Requirement already satisfied: thinc<8.3.0,>=8.2.2 in c:\\users\\linkiewicz_k\\appdata\\local\\packages\\pythonsoftwarefoundation.python.3.11_qbz5n2kfra8p0\\localcache\\local-packages\\python311\\site-packages (from spacy) (8.2.3)\n",
      "Requirement already satisfied: wasabi<1.2.0,>=0.9.1 in c:\\users\\linkiewicz_k\\appdata\\local\\packages\\pythonsoftwarefoundation.python.3.11_qbz5n2kfra8p0\\localcache\\local-packages\\python311\\site-packages (from spacy) (1.1.2)\n",
      "Requirement already satisfied: srsly<3.0.0,>=2.4.3 in c:\\users\\linkiewicz_k\\appdata\\local\\packages\\pythonsoftwarefoundation.python.3.11_qbz5n2kfra8p0\\localcache\\local-packages\\python311\\site-packages (from spacy) (2.4.8)\n",
      "Requirement already satisfied: catalogue<2.1.0,>=2.0.6 in c:\\users\\linkiewicz_k\\appdata\\local\\packages\\pythonsoftwarefoundation.python.3.11_qbz5n2kfra8p0\\localcache\\local-packages\\python311\\site-packages (from spacy) (2.0.10)\n",
      "Requirement already satisfied: weasel<0.4.0,>=0.1.0 in c:\\users\\linkiewicz_k\\appdata\\local\\packages\\pythonsoftwarefoundation.python.3.11_qbz5n2kfra8p0\\localcache\\local-packages\\python311\\site-packages (from spacy) (0.3.4)\n",
      "Requirement already satisfied: typer<0.10.0,>=0.3.0 in c:\\users\\linkiewicz_k\\appdata\\local\\packages\\pythonsoftwarefoundation.python.3.11_qbz5n2kfra8p0\\localcache\\local-packages\\python311\\site-packages (from spacy) (0.9.0)\n",
      "Requirement already satisfied: smart-open<7.0.0,>=5.2.1 in c:\\users\\linkiewicz_k\\appdata\\local\\packages\\pythonsoftwarefoundation.python.3.11_qbz5n2kfra8p0\\localcache\\local-packages\\python311\\site-packages (from spacy) (6.4.0)\n",
      "Requirement already satisfied: tqdm<5.0.0,>=4.38.0 in c:\\users\\linkiewicz_k\\appdata\\local\\packages\\pythonsoftwarefoundation.python.3.11_qbz5n2kfra8p0\\localcache\\local-packages\\python311\\site-packages (from spacy) (4.66.2)\n",
      "Requirement already satisfied: requests<3.0.0,>=2.13.0 in c:\\users\\linkiewicz_k\\appdata\\local\\packages\\pythonsoftwarefoundation.python.3.11_qbz5n2kfra8p0\\localcache\\local-packages\\python311\\site-packages (from spacy) (2.31.0)\n",
      "Requirement already satisfied: pydantic!=1.8,!=1.8.1,<3.0.0,>=1.7.4 in c:\\users\\linkiewicz_k\\appdata\\local\\packages\\pythonsoftwarefoundation.python.3.11_qbz5n2kfra8p0\\localcache\\local-packages\\python311\\site-packages (from spacy) (2.6.1)\n",
      "Requirement already satisfied: jinja2 in c:\\users\\linkiewicz_k\\appdata\\local\\packages\\pythonsoftwarefoundation.python.3.11_qbz5n2kfra8p0\\localcache\\local-packages\\python311\\site-packages (from spacy) (3.1.3)\n",
      "Requirement already satisfied: setuptools in c:\\program files\\windowsapps\\pythonsoftwarefoundation.python.3.11_3.11.2288.0_x64__qbz5n2kfra8p0\\lib\\site-packages (from spacy) (65.5.0)\n",
      "Requirement already satisfied: packaging>=20.0 in c:\\users\\linkiewicz_k\\appdata\\local\\packages\\pythonsoftwarefoundation.python.3.11_qbz5n2kfra8p0\\localcache\\local-packages\\python311\\site-packages (from spacy) (23.2)\n",
      "Requirement already satisfied: langcodes<4.0.0,>=3.2.0 in c:\\users\\linkiewicz_k\\appdata\\local\\packages\\pythonsoftwarefoundation.python.3.11_qbz5n2kfra8p0\\localcache\\local-packages\\python311\\site-packages (from spacy) (3.3.0)\n",
      "Requirement already satisfied: numpy>=1.19.0 in c:\\users\\linkiewicz_k\\appdata\\local\\packages\\pythonsoftwarefoundation.python.3.11_qbz5n2kfra8p0\\localcache\\local-packages\\python311\\site-packages (from spacy) (1.26.4)\n",
      "Requirement already satisfied: annotated-types>=0.4.0 in c:\\users\\linkiewicz_k\\appdata\\local\\packages\\pythonsoftwarefoundation.python.3.11_qbz5n2kfra8p0\\localcache\\local-packages\\python311\\site-packages (from pydantic!=1.8,!=1.8.1,<3.0.0,>=1.7.4->spacy) (0.6.0)\n",
      "Requirement already satisfied: pydantic-core==2.16.2 in c:\\users\\linkiewicz_k\\appdata\\local\\packages\\pythonsoftwarefoundation.python.3.11_qbz5n2kfra8p0\\localcache\\local-packages\\python311\\site-packages (from pydantic!=1.8,!=1.8.1,<3.0.0,>=1.7.4->spacy) (2.16.2)\n",
      "Requirement already satisfied: typing-extensions>=4.6.1 in c:\\users\\linkiewicz_k\\appdata\\local\\packages\\pythonsoftwarefoundation.python.3.11_qbz5n2kfra8p0\\localcache\\local-packages\\python311\\site-packages (from pydantic!=1.8,!=1.8.1,<3.0.0,>=1.7.4->spacy) (4.9.0)\n",
      "Requirement already satisfied: charset-normalizer<4,>=2 in c:\\users\\linkiewicz_k\\appdata\\local\\packages\\pythonsoftwarefoundation.python.3.11_qbz5n2kfra8p0\\localcache\\local-packages\\python311\\site-packages (from requests<3.0.0,>=2.13.0->spacy) (3.3.2)\n",
      "Requirement already satisfied: idna<4,>=2.5 in c:\\users\\linkiewicz_k\\appdata\\local\\packages\\pythonsoftwarefoundation.python.3.11_qbz5n2kfra8p0\\localcache\\local-packages\\python311\\site-packages (from requests<3.0.0,>=2.13.0->spacy) (3.6)\n",
      "Requirement already satisfied: urllib3<3,>=1.21.1 in c:\\users\\linkiewicz_k\\appdata\\local\\packages\\pythonsoftwarefoundation.python.3.11_qbz5n2kfra8p0\\localcache\\local-packages\\python311\\site-packages (from requests<3.0.0,>=2.13.0->spacy) (2.2.1)\n",
      "Requirement already satisfied: certifi>=2017.4.17 in c:\\users\\linkiewicz_k\\appdata\\local\\packages\\pythonsoftwarefoundation.python.3.11_qbz5n2kfra8p0\\localcache\\local-packages\\python311\\site-packages (from requests<3.0.0,>=2.13.0->spacy) (2024.2.2)\n",
      "Requirement already satisfied: blis<0.8.0,>=0.7.8 in c:\\users\\linkiewicz_k\\appdata\\local\\packages\\pythonsoftwarefoundation.python.3.11_qbz5n2kfra8p0\\localcache\\local-packages\\python311\\site-packages (from thinc<8.3.0,>=8.2.2->spacy) (0.7.11)\n",
      "Requirement already satisfied: confection<1.0.0,>=0.0.1 in c:\\users\\linkiewicz_k\\appdata\\local\\packages\\pythonsoftwarefoundation.python.3.11_qbz5n2kfra8p0\\localcache\\local-packages\\python311\\site-packages (from thinc<8.3.0,>=8.2.2->spacy) (0.1.4)\n",
      "Requirement already satisfied: colorama in c:\\users\\linkiewicz_k\\appdata\\local\\packages\\pythonsoftwarefoundation.python.3.11_qbz5n2kfra8p0\\localcache\\local-packages\\python311\\site-packages (from tqdm<5.0.0,>=4.38.0->spacy) (0.4.6)\n",
      "Requirement already satisfied: click<9.0.0,>=7.1.1 in c:\\users\\linkiewicz_k\\appdata\\local\\packages\\pythonsoftwarefoundation.python.3.11_qbz5n2kfra8p0\\localcache\\local-packages\\python311\\site-packages (from typer<0.10.0,>=0.3.0->spacy) (8.1.7)\n",
      "Requirement already satisfied: cloudpathlib<0.17.0,>=0.7.0 in c:\\users\\linkiewicz_k\\appdata\\local\\packages\\pythonsoftwarefoundation.python.3.11_qbz5n2kfra8p0\\localcache\\local-packages\\python311\\site-packages (from weasel<0.4.0,>=0.1.0->spacy) (0.16.0)\n",
      "Requirement already satisfied: MarkupSafe>=2.0 in c:\\users\\linkiewicz_k\\appdata\\local\\packages\\pythonsoftwarefoundation.python.3.11_qbz5n2kfra8p0\\localcache\\local-packages\\python311\\site-packages (from jinja2->spacy) (2.1.5)\n",
      "Note: you may need to restart the kernel to use updated packages.\n"
     ]
    }
   ],
   "source": [
    "%pip install --upgrade spacy"
   ]
  },
  {
   "cell_type": "code",
   "execution_count": 12,
   "metadata": {},
   "outputs": [
    {
     "name": "stdout",
     "output_type": "stream",
     "text": [
      "Collecting en-core-web-sm==3.7.1\n",
      "  Downloading https://github.com/explosion/spacy-models/releases/download/en_core_web_sm-3.7.1/en_core_web_sm-3.7.1-py3-none-any.whl (12.8 MB)\n",
      "     ---------------------------------------- 0.0/12.8 MB ? eta -:--:--\n",
      "     --------------------------------------- 0.0/12.8 MB 640.0 kB/s eta 0:00:20\n",
      "     --------------------------------------- 0.1/12.8 MB 650.2 kB/s eta 0:00:20\n",
      "     --------------------------------------- 0.1/12.8 MB 650.2 kB/s eta 0:00:20\n",
      "     --------------------------------------- 0.1/12.8 MB 650.2 kB/s eta 0:00:20\n",
      "     --------------------------------------- 0.1/12.8 MB 650.2 kB/s eta 0:00:20\n",
      "     --------------------------------------- 0.1/12.8 MB 650.2 kB/s eta 0:00:20\n",
      "     --------------------------------------- 0.1/12.8 MB 423.5 kB/s eta 0:00:30\n",
      "      -------------------------------------- 0.2/12.8 MB 556.2 kB/s eta 0:00:23\n",
      "      -------------------------------------- 0.2/12.8 MB 565.6 kB/s eta 0:00:23\n",
      "      -------------------------------------- 0.2/12.8 MB 537.7 kB/s eta 0:00:24\n",
      "      -------------------------------------- 0.3/12.8 MB 571.2 kB/s eta 0:00:22\n",
      "      -------------------------------------- 0.3/12.8 MB 555.7 kB/s eta 0:00:23\n",
      "      -------------------------------------- 0.3/12.8 MB 531.5 kB/s eta 0:00:24\n",
      "     - ------------------------------------- 0.4/12.8 MB 575.1 kB/s eta 0:00:22\n",
      "     - ------------------------------------- 0.4/12.8 MB 579.0 kB/s eta 0:00:22\n",
      "     - ------------------------------------- 0.4/12.8 MB 572.0 kB/s eta 0:00:22\n",
      "     - ------------------------------------- 0.5/12.8 MB 587.1 kB/s eta 0:00:22\n",
      "     - ------------------------------------- 0.5/12.8 MB 579.4 kB/s eta 0:00:22\n",
      "     - ------------------------------------- 0.5/12.8 MB 584.1 kB/s eta 0:00:22\n",
      "     - ------------------------------------- 0.5/12.8 MB 577.5 kB/s eta 0:00:22\n",
      "     - ------------------------------------- 0.6/12.8 MB 581.2 kB/s eta 0:00:22\n",
      "     - ------------------------------------- 0.6/12.8 MB 594.6 kB/s eta 0:00:21\n",
      "     - ------------------------------------- 0.6/12.8 MB 588.9 kB/s eta 0:00:21\n",
      "     - ------------------------------------- 0.7/12.8 MB 581.7 kB/s eta 0:00:21\n",
      "     -- ------------------------------------ 0.7/12.8 MB 593.5 kB/s eta 0:00:21\n",
      "     -- ------------------------------------ 0.7/12.8 MB 586.1 kB/s eta 0:00:21\n",
      "     -- ------------------------------------ 0.7/12.8 MB 581.6 kB/s eta 0:00:21\n",
      "     -- ------------------------------------ 0.8/12.8 MB 590.5 kB/s eta 0:00:21\n",
      "     -- ------------------------------------ 0.8/12.8 MB 592.1 kB/s eta 0:00:21\n",
      "     -- ------------------------------------ 0.8/12.8 MB 581.6 kB/s eta 0:00:21\n",
      "     -- ------------------------------------ 0.8/12.8 MB 583.3 kB/s eta 0:00:21\n",
      "     -- ------------------------------------ 0.9/12.8 MB 585.5 kB/s eta 0:00:21\n",
      "     -- ------------------------------------ 0.9/12.8 MB 581.9 kB/s eta 0:00:21\n",
      "     -- ------------------------------------ 0.9/12.8 MB 590.5 kB/s eta 0:00:21\n",
      "     -- ------------------------------------ 1.0/12.8 MB 585.5 kB/s eta 0:00:21\n",
      "     -- ------------------------------------ 1.0/12.8 MB 581.8 kB/s eta 0:00:21\n",
      "     --- ----------------------------------- 1.0/12.8 MB 589.7 kB/s eta 0:00:20\n",
      "     --- ----------------------------------- 1.0/12.8 MB 585.1 kB/s eta 0:00:21\n",
      "     --- ----------------------------------- 1.1/12.8 MB 581.8 kB/s eta 0:00:21\n",
      "     --- ----------------------------------- 1.1/12.8 MB 589.4 kB/s eta 0:00:20\n",
      "     --- ----------------------------------- 1.1/12.8 MB 584.8 kB/s eta 0:00:20\n",
      "     --- ----------------------------------- 1.1/12.8 MB 582.0 kB/s eta 0:00:21\n",
      "     --- ----------------------------------- 1.2/12.8 MB 578.6 kB/s eta 0:00:21\n",
      "     --- ----------------------------------- 1.2/12.8 MB 579.8 kB/s eta 0:00:21\n",
      "     --- ----------------------------------- 1.2/12.8 MB 575.8 kB/s eta 0:00:21\n",
      "     --- ----------------------------------- 1.2/12.8 MB 568.6 kB/s eta 0:00:21\n",
      "     --- ----------------------------------- 1.2/12.8 MB 566.3 kB/s eta 0:00:21\n",
      "     --- ----------------------------------- 1.3/12.8 MB 563.8 kB/s eta 0:00:21\n",
      "     --- ----------------------------------- 1.3/12.8 MB 556.7 kB/s eta 0:00:21\n",
      "     --- ----------------------------------- 1.3/12.8 MB 557.8 kB/s eta 0:00:21\n",
      "     ---- ---------------------------------- 1.3/12.8 MB 560.0 kB/s eta 0:00:21\n",
      "     ---- ---------------------------------- 1.4/12.8 MB 558.1 kB/s eta 0:00:21\n",
      "     ---- ---------------------------------- 1.4/12.8 MB 559.4 kB/s eta 0:00:21\n",
      "     ---- ---------------------------------- 1.4/12.8 MB 554.3 kB/s eta 0:00:21\n",
      "     ---- ---------------------------------- 1.4/12.8 MB 558.8 kB/s eta 0:00:21\n",
      "     ---- ---------------------------------- 1.5/12.8 MB 553.9 kB/s eta 0:00:21\n",
      "     ---- ---------------------------------- 1.5/12.8 MB 544.8 kB/s eta 0:00:21\n",
      "     ---- ---------------------------------- 1.5/12.8 MB 544.8 kB/s eta 0:00:21\n",
      "     ---- ---------------------------------- 1.5/12.8 MB 544.2 kB/s eta 0:00:21\n",
      "     ---- ---------------------------------- 1.5/12.8 MB 541.8 kB/s eta 0:00:21\n",
      "     ---- ---------------------------------- 1.5/12.8 MB 541.8 kB/s eta 0:00:21\n",
      "     ---- ---------------------------------- 1.6/12.8 MB 526.3 kB/s eta 0:00:22\n",
      "     ---- ---------------------------------- 1.6/12.8 MB 526.3 kB/s eta 0:00:22\n",
      "     ---- ---------------------------------- 1.6/12.8 MB 519.5 kB/s eta 0:00:22\n",
      "     ---- ---------------------------------- 1.6/12.8 MB 519.5 kB/s eta 0:00:22\n",
      "     ---- ---------------------------------- 1.6/12.8 MB 513.0 kB/s eta 0:00:22\n",
      "     ---- ---------------------------------- 1.6/12.8 MB 506.2 kB/s eta 0:00:23\n",
      "     ---- ---------------------------------- 1.6/12.8 MB 506.2 kB/s eta 0:00:23\n",
      "     ---- ---------------------------------- 1.6/12.8 MB 502.6 kB/s eta 0:00:23\n",
      "     ---- ---------------------------------- 1.6/12.8 MB 502.6 kB/s eta 0:00:23\n",
      "     ----- --------------------------------- 1.7/12.8 MB 490.8 kB/s eta 0:00:23\n",
      "     ----- --------------------------------- 1.7/12.8 MB 490.8 kB/s eta 0:00:23\n",
      "     ----- --------------------------------- 1.7/12.8 MB 483.4 kB/s eta 0:00:24\n",
      "     ----- --------------------------------- 1.7/12.8 MB 483.4 kB/s eta 0:00:24\n",
      "     ----- --------------------------------- 1.7/12.8 MB 475.6 kB/s eta 0:00:24\n",
      "     ----- --------------------------------- 1.7/12.8 MB 475.6 kB/s eta 0:00:24\n",
      "     ----- --------------------------------- 1.7/12.8 MB 471.0 kB/s eta 0:00:24\n",
      "     ----- --------------------------------- 1.7/12.8 MB 465.7 kB/s eta 0:00:24\n",
      "     ----- --------------------------------- 1.7/12.8 MB 465.7 kB/s eta 0:00:24\n",
      "     ----- --------------------------------- 1.8/12.8 MB 463.1 kB/s eta 0:00:24\n",
      "     ----- --------------------------------- 1.8/12.8 MB 461.9 kB/s eta 0:00:24\n",
      "     ----- --------------------------------- 1.8/12.8 MB 461.7 kB/s eta 0:00:24\n",
      "     ----- --------------------------------- 1.8/12.8 MB 458.8 kB/s eta 0:00:24\n",
      "     ----- --------------------------------- 1.8/12.8 MB 460.3 kB/s eta 0:00:24\n",
      "     ----- --------------------------------- 1.8/12.8 MB 461.8 kB/s eta 0:00:24\n",
      "     ----- --------------------------------- 1.9/12.8 MB 458.7 kB/s eta 0:00:24\n",
      "     ----- --------------------------------- 1.9/12.8 MB 457.7 kB/s eta 0:00:24\n",
      "     ----- --------------------------------- 1.9/12.8 MB 457.5 kB/s eta 0:00:24\n",
      "     ----- --------------------------------- 1.9/12.8 MB 457.2 kB/s eta 0:00:24\n",
      "     ----- --------------------------------- 1.9/12.8 MB 456.3 kB/s eta 0:00:24\n",
      "     ----- --------------------------------- 2.0/12.8 MB 454.5 kB/s eta 0:00:24\n",
      "     ----- --------------------------------- 2.0/12.8 MB 454.5 kB/s eta 0:00:24\n",
      "     ------ -------------------------------- 2.0/12.8 MB 451.7 kB/s eta 0:00:24\n",
      "     ------ -------------------------------- 2.0/12.8 MB 449.9 kB/s eta 0:00:24\n",
      "     ------ -------------------------------- 2.0/12.8 MB 449.9 kB/s eta 0:00:24\n",
      "     ------ -------------------------------- 2.0/12.8 MB 447.5 kB/s eta 0:00:25\n",
      "     ------ -------------------------------- 2.0/12.8 MB 445.1 kB/s eta 0:00:25\n",
      "     ------ -------------------------------- 2.1/12.8 MB 449.5 kB/s eta 0:00:24\n",
      "     ------ -------------------------------- 2.1/12.8 MB 450.0 kB/s eta 0:00:24\n",
      "     ------ -------------------------------- 2.2/12.8 MB 452.1 kB/s eta 0:00:24\n",
      "     ------ -------------------------------- 2.2/12.8 MB 454.1 kB/s eta 0:00:24\n",
      "     ------ -------------------------------- 2.2/12.8 MB 456.8 kB/s eta 0:00:24\n",
      "     ------ -------------------------------- 2.3/12.8 MB 460.0 kB/s eta 0:00:23\n",
      "     ------ -------------------------------- 2.3/12.8 MB 463.4 kB/s eta 0:00:23\n",
      "     ------- ------------------------------- 2.3/12.8 MB 469.9 kB/s eta 0:00:23\n",
      "     ------- ------------------------------- 2.4/12.8 MB 473.1 kB/s eta 0:00:23\n",
      "     ------- ------------------------------- 2.4/12.8 MB 480.3 kB/s eta 0:00:22\n",
      "     ------- ------------------------------- 2.5/12.8 MB 483.4 kB/s eta 0:00:22\n",
      "     ------- ------------------------------- 2.5/12.8 MB 487.0 kB/s eta 0:00:22\n",
      "     ------- ------------------------------- 2.5/12.8 MB 487.1 kB/s eta 0:00:22\n",
      "     ------- ------------------------------- 2.6/12.8 MB 490.1 kB/s eta 0:00:21\n",
      "     ------- ------------------------------- 2.6/12.8 MB 491.5 kB/s eta 0:00:21\n",
      "     -------- ------------------------------ 2.6/12.8 MB 495.3 kB/s eta 0:00:21\n",
      "     -------- ------------------------------ 2.7/12.8 MB 500.6 kB/s eta 0:00:21\n",
      "     -------- ------------------------------ 2.7/12.8 MB 505.7 kB/s eta 0:00:20\n",
      "     -------- ------------------------------ 2.8/12.8 MB 508.9 kB/s eta 0:00:20\n",
      "     -------- ------------------------------ 2.8/12.8 MB 512.0 kB/s eta 0:00:20\n",
      "     -------- ------------------------------ 2.8/12.8 MB 511.0 kB/s eta 0:00:20\n",
      "     -------- ------------------------------ 2.9/12.8 MB 512.2 kB/s eta 0:00:20\n",
      "     -------- ------------------------------ 2.9/12.8 MB 514.4 kB/s eta 0:00:20\n",
      "     -------- ------------------------------ 2.9/12.8 MB 516.3 kB/s eta 0:00:20\n",
      "     --------- ----------------------------- 3.0/12.8 MB 516.1 kB/s eta 0:00:20\n",
      "     --------- ----------------------------- 3.0/12.8 MB 515.8 kB/s eta 0:00:20\n",
      "     --------- ----------------------------- 3.1/12.8 MB 520.4 kB/s eta 0:00:19\n",
      "     --------- ----------------------------- 3.1/12.8 MB 522.9 kB/s eta 0:00:19\n",
      "     --------- ----------------------------- 3.1/12.8 MB 522.2 kB/s eta 0:00:19\n",
      "     --------- ----------------------------- 3.1/12.8 MB 521.9 kB/s eta 0:00:19\n",
      "     --------- ----------------------------- 3.2/12.8 MB 524.3 kB/s eta 0:00:19\n",
      "     --------- ----------------------------- 3.2/12.8 MB 523.6 kB/s eta 0:00:19\n",
      "     --------- ----------------------------- 3.2/12.8 MB 523.3 kB/s eta 0:00:19\n",
      "     --------- ----------------------------- 3.2/12.8 MB 524.3 kB/s eta 0:00:19\n",
      "     --------- ----------------------------- 3.3/12.8 MB 525.3 kB/s eta 0:00:19\n",
      "     ---------- ---------------------------- 3.3/12.8 MB 525.9 kB/s eta 0:00:19\n",
      "     ---------- ---------------------------- 3.3/12.8 MB 526.9 kB/s eta 0:00:18\n",
      "     ---------- ---------------------------- 3.4/12.8 MB 534.3 kB/s eta 0:00:18\n",
      "     ---------- ---------------------------- 3.4/12.8 MB 536.8 kB/s eta 0:00:18\n",
      "     ---------- ---------------------------- 3.5/12.8 MB 540.8 kB/s eta 0:00:18\n",
      "     ---------- ---------------------------- 3.5/12.8 MB 546.1 kB/s eta 0:00:17\n",
      "     ---------- ---------------------------- 3.6/12.8 MB 545.6 kB/s eta 0:00:17\n",
      "     ---------- ---------------------------- 3.6/12.8 MB 545.6 kB/s eta 0:00:17\n",
      "     ---------- ---------------------------- 3.6/12.8 MB 545.6 kB/s eta 0:00:17\n",
      "     ----------- --------------------------- 3.6/12.8 MB 544.8 kB/s eta 0:00:17\n",
      "     ----------- --------------------------- 3.6/12.8 MB 544.8 kB/s eta 0:00:17\n",
      "     ----------- --------------------------- 3.7/12.8 MB 540.1 kB/s eta 0:00:17\n",
      "     ----------- --------------------------- 3.7/12.8 MB 539.6 kB/s eta 0:00:17\n",
      "     ----------- --------------------------- 3.7/12.8 MB 541.9 kB/s eta 0:00:17\n",
      "     ----------- --------------------------- 3.8/12.8 MB 543.9 kB/s eta 0:00:17\n",
      "     ----------- --------------------------- 3.8/12.8 MB 547.6 kB/s eta 0:00:17\n",
      "     ----------- --------------------------- 3.9/12.8 MB 552.8 kB/s eta 0:00:17\n",
      "     ----------- --------------------------- 3.9/12.8 MB 554.6 kB/s eta 0:00:17\n",
      "     ------------ -------------------------- 4.0/12.8 MB 561.3 kB/s eta 0:00:16\n",
      "     ------------ -------------------------- 4.0/12.8 MB 564.8 kB/s eta 0:00:16\n",
      "     ------------ -------------------------- 4.1/12.8 MB 568.3 kB/s eta 0:00:16\n",
      "     ------------ -------------------------- 4.1/12.8 MB 571.3 kB/s eta 0:00:16\n",
      "     ------------ -------------------------- 4.1/12.8 MB 569.2 kB/s eta 0:00:16\n",
      "     ------------ -------------------------- 4.1/12.8 MB 569.4 kB/s eta 0:00:16\n",
      "     ------------ -------------------------- 4.2/12.8 MB 568.7 kB/s eta 0:00:16\n",
      "     ------------ -------------------------- 4.2/12.8 MB 570.8 kB/s eta 0:00:16\n",
      "     ------------- ------------------------- 4.3/12.8 MB 576.8 kB/s eta 0:00:15\n",
      "     ------------- ------------------------- 4.3/12.8 MB 578.8 kB/s eta 0:00:15\n",
      "     ------------- ------------------------- 4.4/12.8 MB 583.4 kB/s eta 0:00:15\n",
      "     ------------- ------------------------- 4.5/12.8 MB 587.8 kB/s eta 0:00:15\n",
      "     ------------- ------------------------- 4.5/12.8 MB 586.8 kB/s eta 0:00:15\n",
      "     ------------- ------------------------- 4.5/12.8 MB 587.2 kB/s eta 0:00:15\n",
      "     ------------- ------------------------- 4.6/12.8 MB 589.3 kB/s eta 0:00:14\n",
      "     -------------- ------------------------ 4.6/12.8 MB 593.5 kB/s eta 0:00:14\n",
      "     -------------- ------------------------ 4.7/12.8 MB 595.0 kB/s eta 0:00:14\n",
      "     -------------- ------------------------ 4.7/12.8 MB 598.1 kB/s eta 0:00:14\n",
      "     -------------- ------------------------ 4.7/12.8 MB 597.2 kB/s eta 0:00:14\n",
      "     -------------- ------------------------ 4.8/12.8 MB 600.1 kB/s eta 0:00:14\n",
      "     -------------- ------------------------ 4.8/12.8 MB 600.2 kB/s eta 0:00:14\n",
      "     -------------- ------------------------ 4.8/12.8 MB 599.4 kB/s eta 0:00:14\n",
      "     -------------- ------------------------ 4.8/12.8 MB 599.4 kB/s eta 0:00:14\n",
      "     -------------- ------------------------ 4.9/12.8 MB 596.4 kB/s eta 0:00:14\n",
      "     -------------- ------------------------ 4.9/12.8 MB 594.2 kB/s eta 0:00:14\n",
      "     -------------- ------------------------ 4.9/12.8 MB 593.3 kB/s eta 0:00:14\n",
      "     --------------- ----------------------- 4.9/12.8 MB 593.6 kB/s eta 0:00:14\n",
      "     --------------- ----------------------- 5.0/12.8 MB 595.4 kB/s eta 0:00:14\n",
      "     --------------- ----------------------- 5.0/12.8 MB 598.1 kB/s eta 0:00:13\n",
      "     --------------- ----------------------- 5.1/12.8 MB 602.1 kB/s eta 0:00:13\n",
      "     --------------- ----------------------- 5.2/12.8 MB 604.8 kB/s eta 0:00:13\n",
      "     --------------- ----------------------- 5.2/12.8 MB 607.4 kB/s eta 0:00:13\n",
      "     --------------- ----------------------- 5.2/12.8 MB 608.9 kB/s eta 0:00:13\n",
      "     ---------------- ---------------------- 5.3/12.8 MB 612.6 kB/s eta 0:00:13\n",
      "     ---------------- ---------------------- 5.3/12.8 MB 615.2 kB/s eta 0:00:13\n",
      "     ---------------- ---------------------- 5.4/12.8 MB 616.5 kB/s eta 0:00:13\n",
      "     ---------------- ---------------------- 5.5/12.8 MB 621.5 kB/s eta 0:00:12\n",
      "     ---------------- ---------------------- 5.5/12.8 MB 620.6 kB/s eta 0:00:12\n",
      "     ---------------- ---------------------- 5.5/12.8 MB 621.9 kB/s eta 0:00:12\n",
      "     ---------------- ---------------------- 5.6/12.8 MB 622.1 kB/s eta 0:00:12\n",
      "     ----------------- --------------------- 5.6/12.8 MB 623.5 kB/s eta 0:00:12\n",
      "     ----------------- --------------------- 5.7/12.8 MB 625.8 kB/s eta 0:00:12\n",
      "     ----------------- --------------------- 5.7/12.8 MB 628.2 kB/s eta 0:00:12\n",
      "     ----------------- --------------------- 5.8/12.8 MB 631.8 kB/s eta 0:00:12\n",
      "     ----------------- --------------------- 5.8/12.8 MB 634.0 kB/s eta 0:00:12\n",
      "     ----------------- --------------------- 5.9/12.8 MB 637.5 kB/s eta 0:00:11\n",
      "     ------------------ -------------------- 5.9/12.8 MB 641.0 kB/s eta 0:00:11\n",
      "     ------------------ -------------------- 6.0/12.8 MB 642.1 kB/s eta 0:00:11\n",
      "     ------------------ -------------------- 6.0/12.8 MB 645.4 kB/s eta 0:00:11\n",
      "     ------------------ -------------------- 6.1/12.8 MB 647.7 kB/s eta 0:00:11\n",
      "     ------------------ -------------------- 6.1/12.8 MB 651.0 kB/s eta 0:00:11\n",
      "     ------------------ -------------------- 6.2/12.8 MB 653.2 kB/s eta 0:00:11\n",
      "     ------------------- ------------------- 6.3/12.8 MB 657.5 kB/s eta 0:00:10\n",
      "     ------------------- ------------------- 6.3/12.8 MB 659.6 kB/s eta 0:00:10\n",
      "     ------------------- ------------------- 6.4/12.8 MB 661.7 kB/s eta 0:00:10\n",
      "     ------------------- ------------------- 6.4/12.8 MB 663.8 kB/s eta 0:00:10\n",
      "     ------------------- ------------------- 6.5/12.8 MB 666.9 kB/s eta 0:00:10\n",
      "     ------------------- ------------------- 6.5/12.8 MB 668.0 kB/s eta 0:00:10\n",
      "     -------------------- ------------------ 6.6/12.8 MB 671.0 kB/s eta 0:00:10\n",
      "     -------------------- ------------------ 6.6/12.8 MB 673.0 kB/s eta 0:00:10\n",
      "     -------------------- ------------------ 6.7/12.8 MB 675.0 kB/s eta 0:00:10\n",
      "     -------------------- ------------------ 6.8/12.8 MB 679.0 kB/s eta 0:00:09\n",
      "     -------------------- ------------------ 6.8/12.8 MB 680.0 kB/s eta 0:00:09\n",
      "     -------------------- ------------------ 6.9/12.8 MB 681.9 kB/s eta 0:00:09\n",
      "     --------------------- ----------------- 6.9/12.8 MB 684.8 kB/s eta 0:00:09\n",
      "     --------------------- ----------------- 7.0/12.8 MB 686.7 kB/s eta 0:00:09\n",
      "     --------------------- ----------------- 7.0/12.8 MB 688.6 kB/s eta 0:00:09\n",
      "     --------------------- ----------------- 7.1/12.8 MB 692.4 kB/s eta 0:00:09\n",
      "     --------------------- ----------------- 7.1/12.8 MB 694.2 kB/s eta 0:00:09\n",
      "     --------------------- ----------------- 7.2/12.8 MB 696.1 kB/s eta 0:00:09\n",
      "     ---------------------- ---------------- 7.2/12.8 MB 698.9 kB/s eta 0:00:08\n",
      "     ---------------------- ---------------- 7.3/12.8 MB 701.6 kB/s eta 0:00:08\n",
      "     ---------------------- ---------------- 7.3/12.8 MB 701.6 kB/s eta 0:00:08\n",
      "     ---------------------- ---------------- 7.3/12.8 MB 699.3 kB/s eta 0:00:08\n",
      "     ---------------------- ---------------- 7.4/12.8 MB 699.1 kB/s eta 0:00:08\n",
      "     ---------------------- ---------------- 7.4/12.8 MB 698.0 kB/s eta 0:00:08\n",
      "     ---------------------- ---------------- 7.4/12.8 MB 700.7 kB/s eta 0:00:08\n",
      "     ---------------------- ---------------- 7.5/12.8 MB 702.4 kB/s eta 0:00:08\n",
      "     ----------------------- --------------- 7.6/12.8 MB 704.1 kB/s eta 0:00:08\n",
      "     ----------------------- --------------- 7.6/12.8 MB 706.7 kB/s eta 0:00:08\n",
      "     ----------------------- --------------- 7.7/12.8 MB 709.3 kB/s eta 0:00:08\n",
      "     ----------------------- --------------- 7.7/12.8 MB 711.1 kB/s eta 0:00:08\n",
      "     ----------------------- --------------- 7.8/12.8 MB 712.6 kB/s eta 0:00:08\n",
      "     ----------------------- --------------- 7.9/12.8 MB 715.1 kB/s eta 0:00:07\n",
      "     ------------------------ -------------- 7.9/12.8 MB 717.7 kB/s eta 0:00:07\n",
      "     ------------------------ -------------- 8.0/12.8 MB 719.2 kB/s eta 0:00:07\n",
      "     ------------------------ -------------- 8.0/12.8 MB 721.0 kB/s eta 0:00:07\n",
      "     ------------------------ -------------- 8.0/12.8 MB 721.5 kB/s eta 0:00:07\n",
      "     ------------------------ -------------- 8.1/12.8 MB 723.1 kB/s eta 0:00:07\n",
      "     ------------------------ -------------- 8.2/12.8 MB 725.6 kB/s eta 0:00:07\n",
      "     ------------------------- ------------- 8.2/12.8 MB 727.9 kB/s eta 0:00:07\n",
      "     ------------------------- ------------- 8.3/12.8 MB 729.5 kB/s eta 0:00:07\n",
      "     ------------------------- ------------- 8.3/12.8 MB 731.7 kB/s eta 0:00:07\n",
      "     ------------------------- ------------- 8.4/12.8 MB 734.1 kB/s eta 0:00:06\n",
      "     ------------------------- ------------- 8.5/12.8 MB 735.6 kB/s eta 0:00:06\n",
      "     ------------------------- ------------- 8.5/12.8 MB 738.0 kB/s eta 0:00:06\n",
      "     -------------------------- ------------ 8.6/12.8 MB 740.1 kB/s eta 0:00:06\n",
      "     -------------------------- ------------ 8.6/12.8 MB 740.8 kB/s eta 0:00:06\n",
      "     -------------------------- ------------ 8.7/12.8 MB 743.1 kB/s eta 0:00:06\n",
      "     -------------------------- ------------ 8.7/12.8 MB 743.8 kB/s eta 0:00:06\n",
      "     -------------------------- ------------ 8.8/12.8 MB 747.6 kB/s eta 0:00:06\n",
      "     --------------------------- ----------- 8.9/12.8 MB 748.9 kB/s eta 0:00:06\n",
      "     --------------------------- ----------- 8.9/12.8 MB 751.2 kB/s eta 0:00:06\n",
      "     --------------------------- ----------- 9.0/12.8 MB 752.6 kB/s eta 0:00:06\n",
      "     --------------------------- ----------- 9.0/12.8 MB 753.7 kB/s eta 0:00:06\n",
      "     --------------------------- ----------- 9.1/12.8 MB 754.5 kB/s eta 0:00:05\n",
      "     --------------------------- ----------- 9.1/12.8 MB 757.2 kB/s eta 0:00:05\n",
      "     --------------------------- ----------- 9.2/12.8 MB 756.9 kB/s eta 0:00:05\n",
      "     ---------------------------- ---------- 9.2/12.8 MB 756.5 kB/s eta 0:00:05\n",
      "     ---------------------------- ---------- 9.2/12.8 MB 756.3 kB/s eta 0:00:05\n",
      "     ---------------------------- ---------- 9.2/12.8 MB 755.0 kB/s eta 0:00:05\n",
      "     ---------------------------- ---------- 9.3/12.8 MB 754.6 kB/s eta 0:00:05\n",
      "     ---------------------------- ---------- 9.3/12.8 MB 755.1 kB/s eta 0:00:05\n",
      "     ---------------------------- ---------- 9.4/12.8 MB 756.5 kB/s eta 0:00:05\n",
      "     ---------------------------- ---------- 9.4/12.8 MB 757.7 kB/s eta 0:00:05\n",
      "     ---------------------------- ---------- 9.5/12.8 MB 759.8 kB/s eta 0:00:05\n",
      "     ----------------------------- --------- 9.5/12.8 MB 761.0 kB/s eta 0:00:05\n",
      "     ----------------------------- --------- 9.6/12.8 MB 763.2 kB/s eta 0:00:05\n",
      "     ----------------------------- --------- 9.6/12.8 MB 764.5 kB/s eta 0:00:05\n",
      "     ----------------------------- --------- 9.7/12.8 MB 765.9 kB/s eta 0:00:05\n",
      "     ----------------------------- --------- 9.7/12.8 MB 765.5 kB/s eta 0:00:05\n",
      "     ----------------------------- --------- 9.7/12.8 MB 766.6 kB/s eta 0:00:04\n",
      "     ----------------------------- --------- 9.8/12.8 MB 767.8 kB/s eta 0:00:04\n",
      "     ----------------------------- --------- 9.8/12.8 MB 768.4 kB/s eta 0:00:04\n",
      "     ------------------------------ -------- 9.9/12.8 MB 766.2 kB/s eta 0:00:04\n",
      "     ------------------------------ -------- 9.9/12.8 MB 767.3 kB/s eta 0:00:04\n",
      "     ----------------------------- -------- 10.0/12.8 MB 768.5 kB/s eta 0:00:04\n",
      "     ----------------------------- -------- 10.0/12.8 MB 768.9 kB/s eta 0:00:04\n",
      "     ----------------------------- -------- 10.1/12.8 MB 770.7 kB/s eta 0:00:04\n",
      "     ------------------------------ ------- 10.1/12.8 MB 771.9 kB/s eta 0:00:04\n",
      "     ------------------------------ ------- 10.2/12.8 MB 772.2 kB/s eta 0:00:04\n",
      "     ------------------------------ ------- 10.2/12.8 MB 774.9 kB/s eta 0:00:04\n",
      "     ------------------------------ ------- 10.3/12.8 MB 787.9 kB/s eta 0:00:04\n",
      "     ------------------------------ ------- 10.3/12.8 MB 787.9 kB/s eta 0:00:04\n",
      "     ------------------------------ ------- 10.3/12.8 MB 787.9 kB/s eta 0:00:04\n",
      "     ------------------------------ ------- 10.3/12.8 MB 787.9 kB/s eta 0:00:04\n",
      "     ------------------------------ ------- 10.3/12.8 MB 777.6 kB/s eta 0:00:04\n",
      "     ------------------------------ ------- 10.3/12.8 MB 777.6 kB/s eta 0:00:04\n",
      "     ------------------------------ ------- 10.3/12.8 MB 773.9 kB/s eta 0:00:04\n",
      "     ------------------------------ ------- 10.4/12.8 MB 772.1 kB/s eta 0:00:04\n",
      "     ------------------------------ ------- 10.4/12.8 MB 771.2 kB/s eta 0:00:04\n",
      "     ------------------------------ ------- 10.4/12.8 MB 767.5 kB/s eta 0:00:04\n",
      "     ------------------------------ ------- 10.4/12.8 MB 772.1 kB/s eta 0:00:04\n",
      "     ------------------------------- ------ 10.5/12.8 MB 772.1 kB/s eta 0:00:04\n",
      "     ------------------------------- ------ 10.5/12.8 MB 774.8 kB/s eta 0:00:03\n",
      "     ------------------------------- ------ 10.6/12.8 MB 773.9 kB/s eta 0:00:03\n",
      "     ------------------------------- ------ 10.6/12.8 MB 775.7 kB/s eta 0:00:03\n",
      "     ------------------------------- ------ 10.7/12.8 MB 777.6 kB/s eta 0:00:03\n",
      "     ------------------------------- ------ 10.7/12.8 MB 778.5 kB/s eta 0:00:03\n",
      "     ------------------------------- ------ 10.8/12.8 MB 781.3 kB/s eta 0:00:03\n",
      "     -------------------------------- ----- 10.8/12.8 MB 783.2 kB/s eta 0:00:03\n",
      "     -------------------------------- ----- 10.9/12.8 MB 786.9 kB/s eta 0:00:03\n",
      "     -------------------------------- ----- 10.9/12.8 MB 788.8 kB/s eta 0:00:03\n",
      "     -------------------------------- ----- 11.0/12.8 MB 790.7 kB/s eta 0:00:03\n",
      "     -------------------------------- ----- 11.0/12.8 MB 794.5 kB/s eta 0:00:03\n",
      "     -------------------------------- ----- 11.1/12.8 MB 796.5 kB/s eta 0:00:03\n",
      "     --------------------------------- ---- 11.1/12.8 MB 799.4 kB/s eta 0:00:03\n",
      "     --------------------------------- ---- 11.2/12.8 MB 800.4 kB/s eta 0:00:03\n",
      "     --------------------------------- ---- 11.2/12.8 MB 804.4 kB/s eta 0:00:02\n",
      "     --------------------------------- ---- 11.3/12.8 MB 809.3 kB/s eta 0:00:02\n",
      "     --------------------------------- ---- 11.4/12.8 MB 812.3 kB/s eta 0:00:02\n",
      "     --------------------------------- ---- 11.4/12.8 MB 815.3 kB/s eta 0:00:02\n",
      "     ---------------------------------- --- 11.5/12.8 MB 821.5 kB/s eta 0:00:02\n",
      "     ---------------------------------- --- 11.5/12.8 MB 828.8 kB/s eta 0:00:02\n",
      "     ---------------------------------- --- 11.6/12.8 MB 829.7 kB/s eta 0:00:02\n",
      "     ---------------------------------- --- 11.6/12.8 MB 833.0 kB/s eta 0:00:02\n",
      "     ---------------------------------- --- 11.7/12.8 MB 837.2 kB/s eta 0:00:02\n",
      "     ---------------------------------- --- 11.7/12.8 MB 843.7 kB/s eta 0:00:02\n",
      "     ---------------------------------- --- 11.8/12.8 MB 855.8 kB/s eta 0:00:02\n",
      "     ----------------------------------- -- 11.8/12.8 MB 866.0 kB/s eta 0:00:02\n",
      "     ----------------------------------- -- 11.8/12.8 MB 871.8 kB/s eta 0:00:02\n",
      "     ----------------------------------- -- 11.9/12.8 MB 880.0 kB/s eta 0:00:02\n",
      "     ----------------------------------- -- 11.9/12.8 MB 877.6 kB/s eta 0:00:02\n",
      "     ----------------------------------- -- 11.9/12.8 MB 880.0 kB/s eta 0:00:02\n",
      "     ----------------------------------- -- 12.0/12.8 MB 896.8 kB/s eta 0:00:01\n",
      "     ----------------------------------- -- 12.0/12.8 MB 898.1 kB/s eta 0:00:01\n",
      "     ----------------------------------- -- 12.0/12.8 MB 899.3 kB/s eta 0:00:01\n",
      "     ----------------------------------- -- 12.0/12.8 MB 901.8 kB/s eta 0:00:01\n",
      "     ----------------------------------- -- 12.0/12.8 MB 901.8 kB/s eta 0:00:01\n",
      "     ----------------------------------- -- 12.0/12.8 MB 901.8 kB/s eta 0:00:01\n",
      "     ----------------------------------- -- 12.1/12.8 MB 898.1 kB/s eta 0:00:01\n",
      "     ----------------------------------- -- 12.1/12.8 MB 898.1 kB/s eta 0:00:01\n",
      "     ----------------------------------- -- 12.1/12.8 MB 896.9 kB/s eta 0:00:01\n",
      "     ----------------------------------- -- 12.1/12.8 MB 896.9 kB/s eta 0:00:01\n",
      "     ----------------------------------- -- 12.1/12.8 MB 896.9 kB/s eta 0:00:01\n",
      "     ----------------------------------- -- 12.1/12.8 MB 896.9 kB/s eta 0:00:01\n",
      "     ----------------------------------- -- 12.1/12.8 MB 887.2 kB/s eta 0:00:01\n",
      "     ----------------------------------- -- 12.1/12.8 MB 887.2 kB/s eta 0:00:01\n",
      "     ----------------------------------- -- 12.1/12.8 MB 887.2 kB/s eta 0:00:01\n",
      "     ------------------------------------ - 12.1/12.8 MB 882.4 kB/s eta 0:00:01\n",
      "     ------------------------------------ - 12.1/12.8 MB 882.4 kB/s eta 0:00:01\n",
      "     ------------------------------------ - 12.2/12.8 MB 878.8 kB/s eta 0:00:01\n",
      "     ------------------------------------ - 12.2/12.8 MB 878.8 kB/s eta 0:00:01\n",
      "     ------------------------------------ - 12.2/12.8 MB 878.8 kB/s eta 0:00:01\n",
      "     ------------------------------------ - 12.2/12.8 MB 875.2 kB/s eta 0:00:01\n",
      "     ------------------------------------ - 12.2/12.8 MB 875.2 kB/s eta 0:00:01\n",
      "     ------------------------------------ - 12.2/12.8 MB 876.4 kB/s eta 0:00:01\n",
      "     ------------------------------------ - 12.2/12.8 MB 876.4 kB/s eta 0:00:01\n",
      "     ------------------------------------ - 12.2/12.8 MB 876.4 kB/s eta 0:00:01\n",
      "     ------------------------------------ - 12.2/12.8 MB 876.4 kB/s eta 0:00:01\n",
      "     ------------------------------------ - 12.2/12.8 MB 863.7 kB/s eta 0:00:01\n",
      "     ------------------------------------ - 12.2/12.8 MB 864.9 kB/s eta 0:00:01\n",
      "     ------------------------------------ - 12.2/12.8 MB 864.9 kB/s eta 0:00:01\n",
      "     ------------------------------------ - 12.2/12.8 MB 864.9 kB/s eta 0:00:01\n",
      "     ------------------------------------ - 12.2/12.8 MB 864.9 kB/s eta 0:00:01\n",
      "     ------------------------------------ - 12.2/12.8 MB 856.9 kB/s eta 0:00:01\n",
      "     ------------------------------------ - 12.2/12.8 MB 856.9 kB/s eta 0:00:01\n",
      "     ------------------------------------ - 12.2/12.8 MB 856.9 kB/s eta 0:00:01\n",
      "     ------------------------------------ - 12.2/12.8 MB 856.9 kB/s eta 0:00:01\n",
      "     ------------------------------------ - 12.3/12.8 MB 844.7 kB/s eta 0:00:01\n",
      "     ------------------------------------ - 12.3/12.8 MB 844.7 kB/s eta 0:00:01\n",
      "     ------------------------------------ - 12.3/12.8 MB 844.7 kB/s eta 0:00:01\n",
      "     ------------------------------------ - 12.3/12.8 MB 844.7 kB/s eta 0:00:01\n",
      "     ------------------------------------ - 12.3/12.8 MB 835.1 kB/s eta 0:00:01\n",
      "     ------------------------------------ - 12.3/12.8 MB 835.1 kB/s eta 0:00:01\n",
      "     ------------------------------------ - 12.3/12.8 MB 835.1 kB/s eta 0:00:01\n",
      "     ------------------------------------ - 12.3/12.8 MB 828.7 kB/s eta 0:00:01\n",
      "     ------------------------------------ - 12.3/12.8 MB 828.7 kB/s eta 0:00:01\n",
      "     ------------------------------------ - 12.3/12.8 MB 823.5 kB/s eta 0:00:01\n",
      "     ------------------------------------ - 12.3/12.8 MB 823.5 kB/s eta 0:00:01\n",
      "     ------------------------------------ - 12.3/12.8 MB 822.5 kB/s eta 0:00:01\n",
      "     ------------------------------------ - 12.4/12.8 MB 821.4 kB/s eta 0:00:01\n",
      "     ------------------------------------ - 12.4/12.8 MB 820.4 kB/s eta 0:00:01\n",
      "     ------------------------------------ - 12.4/12.8 MB 819.4 kB/s eta 0:00:01\n",
      "     ------------------------------------ - 12.5/12.8 MB 820.4 kB/s eta 0:00:01\n",
      "     -------------------------------------  12.5/12.8 MB 820.4 kB/s eta 0:00:01\n",
      "     -------------------------------------  12.5/12.8 MB 817.3 kB/s eta 0:00:01\n",
      "     -------------------------------------  12.5/12.8 MB 817.3 kB/s eta 0:00:01\n",
      "     -------------------------------------  12.5/12.8 MB 817.3 kB/s eta 0:00:01\n",
      "     -------------------------------------  12.5/12.8 MB 817.3 kB/s eta 0:00:01\n",
      "     -------------------------------------  12.5/12.8 MB 817.3 kB/s eta 0:00:01\n",
      "     -------------------------------------  12.5/12.8 MB 806.3 kB/s eta 0:00:01\n",
      "     -------------------------------------  12.5/12.8 MB 806.3 kB/s eta 0:00:01\n",
      "     -------------------------------------  12.6/12.8 MB 801.3 kB/s eta 0:00:01\n",
      "     -------------------------------------  12.6/12.8 MB 801.3 kB/s eta 0:00:01\n",
      "     -------------------------------------  12.6/12.8 MB 793.6 kB/s eta 0:00:01\n",
      "     -------------------------------------  12.6/12.8 MB 793.6 kB/s eta 0:00:01\n",
      "     -------------------------------------  12.6/12.8 MB 793.6 kB/s eta 0:00:01\n",
      "     -------------------------------------  12.6/12.8 MB 787.8 kB/s eta 0:00:01\n",
      "     -------------------------------------  12.6/12.8 MB 787.8 kB/s eta 0:00:01\n",
      "     -------------------------------------  12.6/12.8 MB 782.2 kB/s eta 0:00:01\n",
      "     -------------------------------------  12.6/12.8 MB 782.2 kB/s eta 0:00:01\n",
      "     -------------------------------------  12.6/12.8 MB 775.7 kB/s eta 0:00:01\n",
      "     -------------------------------------  12.6/12.8 MB 775.7 kB/s eta 0:00:01\n",
      "     -------------------------------------  12.6/12.8 MB 775.7 kB/s eta 0:00:01\n",
      "     -------------------------------------  12.6/12.8 MB 768.5 kB/s eta 0:00:01\n",
      "     -------------------------------------  12.6/12.8 MB 768.5 kB/s eta 0:00:01\n",
      "     -------------------------------------  12.6/12.8 MB 768.5 kB/s eta 0:00:01\n",
      "     -------------------------------------  12.6/12.8 MB 768.5 kB/s eta 0:00:01\n",
      "     -------------------------------------  12.7/12.8 MB 760.4 kB/s eta 0:00:01\n",
      "     -------------------------------------  12.7/12.8 MB 760.4 kB/s eta 0:00:01\n",
      "     -------------------------------------  12.7/12.8 MB 760.4 kB/s eta 0:00:01\n",
      "     -------------------------------------  12.7/12.8 MB 760.4 kB/s eta 0:00:01\n",
      "     -------------------------------------  12.7/12.8 MB 760.4 kB/s eta 0:00:01\n",
      "     -------------------------------------  12.7/12.8 MB 760.4 kB/s eta 0:00:01\n",
      "     -------------------------------------  12.7/12.8 MB 760.4 kB/s eta 0:00:01\n",
      "     -------------------------------------  12.7/12.8 MB 760.4 kB/s eta 0:00:01\n",
      "     -------------------------------------  12.7/12.8 MB 760.4 kB/s eta 0:00:01\n",
      "     -------------------------------------  12.7/12.8 MB 736.4 kB/s eta 0:00:01\n",
      "     -------------------------------------  12.7/12.8 MB 736.4 kB/s eta 0:00:01\n",
      "     -------------------------------------  12.7/12.8 MB 736.4 kB/s eta 0:00:01\n",
      "     -------------------------------------  12.7/12.8 MB 736.4 kB/s eta 0:00:01\n",
      "     -------------------------------------  12.7/12.8 MB 736.4 kB/s eta 0:00:01\n",
      "     -------------------------------------  12.7/12.8 MB 722.6 kB/s eta 0:00:01\n",
      "     -------------------------------------  12.7/12.8 MB 722.6 kB/s eta 0:00:01\n",
      "     -------------------------------------  12.7/12.8 MB 722.6 kB/s eta 0:00:01\n",
      "     -------------------------------------  12.7/12.8 MB 717.9 kB/s eta 0:00:01\n",
      "     -------------------------------------  12.7/12.8 MB 717.9 kB/s eta 0:00:01\n",
      "     -------------------------------------  12.7/12.8 MB 712.4 kB/s eta 0:00:01\n",
      "     -------------------------------------  12.7/12.8 MB 712.4 kB/s eta 0:00:01\n",
      "     -------------------------------------  12.7/12.8 MB 710.9 kB/s eta 0:00:01\n",
      "     -------------------------------------  12.7/12.8 MB 710.1 kB/s eta 0:00:01\n",
      "     -------------------------------------  12.8/12.8 MB 709.3 kB/s eta 0:00:01\n",
      "     -------------------------------------  12.8/12.8 MB 705.5 kB/s eta 0:00:01\n",
      "     -------------------------------------  12.8/12.8 MB 705.5 kB/s eta 0:00:01\n",
      "     -------------------------------------  12.8/12.8 MB 705.5 kB/s eta 0:00:01\n",
      "     -------------------------------------  12.8/12.8 MB 705.5 kB/s eta 0:00:01\n",
      "     -------------------------------------  12.8/12.8 MB 705.5 kB/s eta 0:00:01\n",
      "     -------------------------------------  12.8/12.8 MB 705.5 kB/s eta 0:00:01\n",
      "     -------------------------------------  12.8/12.8 MB 705.5 kB/s eta 0:00:01\n",
      "     -------------------------------------  12.8/12.8 MB 705.5 kB/s eta 0:00:01\n",
      "     -------------------------------------  12.8/12.8 MB 705.5 kB/s eta 0:00:01\n",
      "     -------------------------------------  12.8/12.8 MB 705.5 kB/s eta 0:00:01\n",
      "     -------------------------------------  12.8/12.8 MB 705.5 kB/s eta 0:00:01\n",
      "     -------------------------------------- 12.8/12.8 MB 683.6 kB/s eta 0:00:00\n",
      "Requirement already satisfied: spacy<3.8.0,>=3.7.2 in c:\\users\\linkiewicz_k\\appdata\\local\\packages\\pythonsoftwarefoundation.python.3.11_qbz5n2kfra8p0\\localcache\\local-packages\\python311\\site-packages (from en-core-web-sm==3.7.1) (3.7.4)\n",
      "Requirement already satisfied: spacy-legacy<3.1.0,>=3.0.11 in c:\\users\\linkiewicz_k\\appdata\\local\\packages\\pythonsoftwarefoundation.python.3.11_qbz5n2kfra8p0\\localcache\\local-packages\\python311\\site-packages (from spacy<3.8.0,>=3.7.2->en-core-web-sm==3.7.1) (3.0.12)\n",
      "Requirement already satisfied: spacy-loggers<2.0.0,>=1.0.0 in c:\\users\\linkiewicz_k\\appdata\\local\\packages\\pythonsoftwarefoundation.python.3.11_qbz5n2kfra8p0\\localcache\\local-packages\\python311\\site-packages (from spacy<3.8.0,>=3.7.2->en-core-web-sm==3.7.1) (1.0.5)\n",
      "Requirement already satisfied: murmurhash<1.1.0,>=0.28.0 in c:\\users\\linkiewicz_k\\appdata\\local\\packages\\pythonsoftwarefoundation.python.3.11_qbz5n2kfra8p0\\localcache\\local-packages\\python311\\site-packages (from spacy<3.8.0,>=3.7.2->en-core-web-sm==3.7.1) (1.0.10)\n",
      "Requirement already satisfied: cymem<2.1.0,>=2.0.2 in c:\\users\\linkiewicz_k\\appdata\\local\\packages\\pythonsoftwarefoundation.python.3.11_qbz5n2kfra8p0\\localcache\\local-packages\\python311\\site-packages (from spacy<3.8.0,>=3.7.2->en-core-web-sm==3.7.1) (2.0.8)\n",
      "Requirement already satisfied: preshed<3.1.0,>=3.0.2 in c:\\users\\linkiewicz_k\\appdata\\local\\packages\\pythonsoftwarefoundation.python.3.11_qbz5n2kfra8p0\\localcache\\local-packages\\python311\\site-packages (from spacy<3.8.0,>=3.7.2->en-core-web-sm==3.7.1) (3.0.9)\n",
      "Requirement already satisfied: thinc<8.3.0,>=8.2.2 in c:\\users\\linkiewicz_k\\appdata\\local\\packages\\pythonsoftwarefoundation.python.3.11_qbz5n2kfra8p0\\localcache\\local-packages\\python311\\site-packages (from spacy<3.8.0,>=3.7.2->en-core-web-sm==3.7.1) (8.2.3)\n",
      "Requirement already satisfied: wasabi<1.2.0,>=0.9.1 in c:\\users\\linkiewicz_k\\appdata\\local\\packages\\pythonsoftwarefoundation.python.3.11_qbz5n2kfra8p0\\localcache\\local-packages\\python311\\site-packages (from spacy<3.8.0,>=3.7.2->en-core-web-sm==3.7.1) (1.1.2)\n",
      "Requirement already satisfied: srsly<3.0.0,>=2.4.3 in c:\\users\\linkiewicz_k\\appdata\\local\\packages\\pythonsoftwarefoundation.python.3.11_qbz5n2kfra8p0\\localcache\\local-packages\\python311\\site-packages (from spacy<3.8.0,>=3.7.2->en-core-web-sm==3.7.1) (2.4.8)\n",
      "Requirement already satisfied: catalogue<2.1.0,>=2.0.6 in c:\\users\\linkiewicz_k\\appdata\\local\\packages\\pythonsoftwarefoundation.python.3.11_qbz5n2kfra8p0\\localcache\\local-packages\\python311\\site-packages (from spacy<3.8.0,>=3.7.2->en-core-web-sm==3.7.1) (2.0.10)\n",
      "Requirement already satisfied: weasel<0.4.0,>=0.1.0 in c:\\users\\linkiewicz_k\\appdata\\local\\packages\\pythonsoftwarefoundation.python.3.11_qbz5n2kfra8p0\\localcache\\local-packages\\python311\\site-packages (from spacy<3.8.0,>=3.7.2->en-core-web-sm==3.7.1) (0.3.4)\n",
      "Requirement already satisfied: typer<0.10.0,>=0.3.0 in c:\\users\\linkiewicz_k\\appdata\\local\\packages\\pythonsoftwarefoundation.python.3.11_qbz5n2kfra8p0\\localcache\\local-packages\\python311\\site-packages (from spacy<3.8.0,>=3.7.2->en-core-web-sm==3.7.1) (0.9.0)\n",
      "Requirement already satisfied: smart-open<7.0.0,>=5.2.1 in c:\\users\\linkiewicz_k\\appdata\\local\\packages\\pythonsoftwarefoundation.python.3.11_qbz5n2kfra8p0\\localcache\\local-packages\\python311\\site-packages (from spacy<3.8.0,>=3.7.2->en-core-web-sm==3.7.1) (6.4.0)\n",
      "Requirement already satisfied: tqdm<5.0.0,>=4.38.0 in c:\\users\\linkiewicz_k\\appdata\\local\\packages\\pythonsoftwarefoundation.python.3.11_qbz5n2kfra8p0\\localcache\\local-packages\\python311\\site-packages (from spacy<3.8.0,>=3.7.2->en-core-web-sm==3.7.1) (4.66.2)\n",
      "Requirement already satisfied: requests<3.0.0,>=2.13.0 in c:\\users\\linkiewicz_k\\appdata\\local\\packages\\pythonsoftwarefoundation.python.3.11_qbz5n2kfra8p0\\localcache\\local-packages\\python311\\site-packages (from spacy<3.8.0,>=3.7.2->en-core-web-sm==3.7.1) (2.31.0)\n",
      "Requirement already satisfied: pydantic!=1.8,!=1.8.1,<3.0.0,>=1.7.4 in c:\\users\\linkiewicz_k\\appdata\\local\\packages\\pythonsoftwarefoundation.python.3.11_qbz5n2kfra8p0\\localcache\\local-packages\\python311\\site-packages (from spacy<3.8.0,>=3.7.2->en-core-web-sm==3.7.1) (2.6.1)\n",
      "Requirement already satisfied: jinja2 in c:\\users\\linkiewicz_k\\appdata\\local\\packages\\pythonsoftwarefoundation.python.3.11_qbz5n2kfra8p0\\localcache\\local-packages\\python311\\site-packages (from spacy<3.8.0,>=3.7.2->en-core-web-sm==3.7.1) (3.1.3)\n",
      "Requirement already satisfied: setuptools in c:\\program files\\windowsapps\\pythonsoftwarefoundation.python.3.11_3.11.2288.0_x64__qbz5n2kfra8p0\\lib\\site-packages (from spacy<3.8.0,>=3.7.2->en-core-web-sm==3.7.1) (65.5.0)\n",
      "Requirement already satisfied: packaging>=20.0 in c:\\users\\linkiewicz_k\\appdata\\local\\packages\\pythonsoftwarefoundation.python.3.11_qbz5n2kfra8p0\\localcache\\local-packages\\python311\\site-packages (from spacy<3.8.0,>=3.7.2->en-core-web-sm==3.7.1) (23.2)\n",
      "Requirement already satisfied: langcodes<4.0.0,>=3.2.0 in c:\\users\\linkiewicz_k\\appdata\\local\\packages\\pythonsoftwarefoundation.python.3.11_qbz5n2kfra8p0\\localcache\\local-packages\\python311\\site-packages (from spacy<3.8.0,>=3.7.2->en-core-web-sm==3.7.1) (3.3.0)\n",
      "Requirement already satisfied: numpy>=1.19.0 in c:\\users\\linkiewicz_k\\appdata\\local\\packages\\pythonsoftwarefoundation.python.3.11_qbz5n2kfra8p0\\localcache\\local-packages\\python311\\site-packages (from spacy<3.8.0,>=3.7.2->en-core-web-sm==3.7.1) (1.26.4)\n",
      "Requirement already satisfied: annotated-types>=0.4.0 in c:\\users\\linkiewicz_k\\appdata\\local\\packages\\pythonsoftwarefoundation.python.3.11_qbz5n2kfra8p0\\localcache\\local-packages\\python311\\site-packages (from pydantic!=1.8,!=1.8.1,<3.0.0,>=1.7.4->spacy<3.8.0,>=3.7.2->en-core-web-sm==3.7.1) (0.6.0)\n",
      "Requirement already satisfied: pydantic-core==2.16.2 in c:\\users\\linkiewicz_k\\appdata\\local\\packages\\pythonsoftwarefoundation.python.3.11_qbz5n2kfra8p0\\localcache\\local-packages\\python311\\site-packages (from pydantic!=1.8,!=1.8.1,<3.0.0,>=1.7.4->spacy<3.8.0,>=3.7.2->en-core-web-sm==3.7.1) (2.16.2)\n",
      "Requirement already satisfied: typing-extensions>=4.6.1 in c:\\users\\linkiewicz_k\\appdata\\local\\packages\\pythonsoftwarefoundation.python.3.11_qbz5n2kfra8p0\\localcache\\local-packages\\python311\\site-packages (from pydantic!=1.8,!=1.8.1,<3.0.0,>=1.7.4->spacy<3.8.0,>=3.7.2->en-core-web-sm==3.7.1) (4.9.0)\n",
      "Requirement already satisfied: charset-normalizer<4,>=2 in c:\\users\\linkiewicz_k\\appdata\\local\\packages\\pythonsoftwarefoundation.python.3.11_qbz5n2kfra8p0\\localcache\\local-packages\\python311\\site-packages (from requests<3.0.0,>=2.13.0->spacy<3.8.0,>=3.7.2->en-core-web-sm==3.7.1) (3.3.2)\n",
      "Requirement already satisfied: idna<4,>=2.5 in c:\\users\\linkiewicz_k\\appdata\\local\\packages\\pythonsoftwarefoundation.python.3.11_qbz5n2kfra8p0\\localcache\\local-packages\\python311\\site-packages (from requests<3.0.0,>=2.13.0->spacy<3.8.0,>=3.7.2->en-core-web-sm==3.7.1) (3.6)\n",
      "Requirement already satisfied: urllib3<3,>=1.21.1 in c:\\users\\linkiewicz_k\\appdata\\local\\packages\\pythonsoftwarefoundation.python.3.11_qbz5n2kfra8p0\\localcache\\local-packages\\python311\\site-packages (from requests<3.0.0,>=2.13.0->spacy<3.8.0,>=3.7.2->en-core-web-sm==3.7.1) (2.2.1)\n",
      "Requirement already satisfied: certifi>=2017.4.17 in c:\\users\\linkiewicz_k\\appdata\\local\\packages\\pythonsoftwarefoundation.python.3.11_qbz5n2kfra8p0\\localcache\\local-packages\\python311\\site-packages (from requests<3.0.0,>=2.13.0->spacy<3.8.0,>=3.7.2->en-core-web-sm==3.7.1) (2024.2.2)\n",
      "Requirement already satisfied: blis<0.8.0,>=0.7.8 in c:\\users\\linkiewicz_k\\appdata\\local\\packages\\pythonsoftwarefoundation.python.3.11_qbz5n2kfra8p0\\localcache\\local-packages\\python311\\site-packages (from thinc<8.3.0,>=8.2.2->spacy<3.8.0,>=3.7.2->en-core-web-sm==3.7.1) (0.7.11)\n",
      "Requirement already satisfied: confection<1.0.0,>=0.0.1 in c:\\users\\linkiewicz_k\\appdata\\local\\packages\\pythonsoftwarefoundation.python.3.11_qbz5n2kfra8p0\\localcache\\local-packages\\python311\\site-packages (from thinc<8.3.0,>=8.2.2->spacy<3.8.0,>=3.7.2->en-core-web-sm==3.7.1) (0.1.4)\n",
      "Requirement already satisfied: colorama in c:\\users\\linkiewicz_k\\appdata\\local\\packages\\pythonsoftwarefoundation.python.3.11_qbz5n2kfra8p0\\localcache\\local-packages\\python311\\site-packages (from tqdm<5.0.0,>=4.38.0->spacy<3.8.0,>=3.7.2->en-core-web-sm==3.7.1) (0.4.6)\n",
      "Requirement already satisfied: click<9.0.0,>=7.1.1 in c:\\users\\linkiewicz_k\\appdata\\local\\packages\\pythonsoftwarefoundation.python.3.11_qbz5n2kfra8p0\\localcache\\local-packages\\python311\\site-packages (from typer<0.10.0,>=0.3.0->spacy<3.8.0,>=3.7.2->en-core-web-sm==3.7.1) (8.1.7)\n",
      "Requirement already satisfied: cloudpathlib<0.17.0,>=0.7.0 in c:\\users\\linkiewicz_k\\appdata\\local\\packages\\pythonsoftwarefoundation.python.3.11_qbz5n2kfra8p0\\localcache\\local-packages\\python311\\site-packages (from weasel<0.4.0,>=0.1.0->spacy<3.8.0,>=3.7.2->en-core-web-sm==3.7.1) (0.16.0)\n",
      "Requirement already satisfied: MarkupSafe>=2.0 in c:\\users\\linkiewicz_k\\appdata\\local\\packages\\pythonsoftwarefoundation.python.3.11_qbz5n2kfra8p0\\localcache\\local-packages\\python311\\site-packages (from jinja2->spacy<3.8.0,>=3.7.2->en-core-web-sm==3.7.1) (2.1.5)\n",
      "Installing collected packages: en-core-web-sm\n",
      "Successfully installed en-core-web-sm-3.7.1\n",
      "\u001b[38;5;2m✔ Download and installation successful\u001b[0m\n",
      "You can now load the package via spacy.load('en_core_web_sm')\n"
     ]
    }
   ],
   "source": [
    "!python -m spacy download en_core_web_sm"
   ]
  },
  {
   "cell_type": "code",
   "execution_count": 13,
   "metadata": {},
   "outputs": [
    {
     "name": "stdout",
     "output_type": "stream",
     "text": [
      "Madame Speaker, Vice President Biden, members of Congress, distinguished guests, and fellow Americans:\n",
      "\n",
      "Our Constitution declares that from time to time, the president shall give to Congress information about the state of our union.\n",
      "\n",
      "For 220 years, our leaders have fulfilled this duty.\n",
      "\n",
      "They have done so during periods of prosperity and tranquility.\n",
      "\n",
      "And they have done so in the midst of war and depression; at moments of great strife and great struggle.\n",
      "\n",
      "\n",
      "\n",
      "It's tempting to look back on these moments and assume that our progress was inevitable, that America was always destined to succeed.\n",
      "\n",
      "But when the Union was turned back at Bull Run and the Allies first landed at Omaha Beach, victory was very much in doubt.\n",
      "\n",
      "When the market crashed on Black Tuesday and civil rights marchers were beaten on Bloody Sunday, the future was anything but certain.\n",
      "\n",
      "These were times that tested the courage of our convictions and the strength of our union.\n"
     ]
    },
    {
     "name": "stderr",
     "output_type": "stream",
     "text": [
      "C:\\Users\\linkiewicz_k\\AppData\\Local\\Packages\\PythonSoftwareFoundation.Python.3.11_qbz5n2kfra8p0\\LocalCache\\local-packages\\Python311\\site-packages\\spacy\\pipeline\\lemmatizer.py:211: UserWarning: [W108] The rule-based lemmatizer did not find POS annotation for one or more tokens. Check that your pipeline includes components that assign token.pos, typically 'tagger'+'attribute_ruler' or 'morphologizer'.\n",
      "  warnings.warn(Warnings.W108)\n"
     ]
    }
   ],
   "source": [
    "# This is a long document we can split up.\n",
    "with open(\"example_data/state_of_the_union.txt\") as f:\n",
    "    state_of_the_union = f.read()\n",
    "\n",
    "from langchain.text_splitter import SpacyTextSplitter\n",
    "\n",
    "text_splitter = SpacyTextSplitter(chunk_size=1000)\n",
    "\n",
    "texts = text_splitter.split_text(state_of_the_union)\n",
    "print(texts[0])"
   ]
  },
  {
   "cell_type": "markdown",
   "metadata": {},
   "source": [
    "# SentenceTransformers"
   ]
  },
  {
   "cell_type": "code",
   "execution_count": 15,
   "metadata": {},
   "outputs": [
    {
     "name": "stdout",
     "output_type": "stream",
     "text": [
      "Collecting sentence_transformers\n",
      "  Downloading sentence_transformers-2.3.1-py3-none-any.whl.metadata (11 kB)\n",
      "Requirement already satisfied: transformers<5.0.0,>=4.32.0 in c:\\users\\linkiewicz_k\\appdata\\local\\packages\\pythonsoftwarefoundation.python.3.11_qbz5n2kfra8p0\\localcache\\local-packages\\python311\\site-packages (from sentence_transformers) (4.37.2)\n",
      "Requirement already satisfied: tqdm in c:\\users\\linkiewicz_k\\appdata\\local\\packages\\pythonsoftwarefoundation.python.3.11_qbz5n2kfra8p0\\localcache\\local-packages\\python311\\site-packages (from sentence_transformers) (4.66.2)\n",
      "Requirement already satisfied: torch>=1.11.0 in c:\\users\\linkiewicz_k\\appdata\\local\\packages\\pythonsoftwarefoundation.python.3.11_qbz5n2kfra8p0\\localcache\\local-packages\\python311\\site-packages (from sentence_transformers) (2.2.0)\n",
      "Requirement already satisfied: numpy in c:\\users\\linkiewicz_k\\appdata\\local\\packages\\pythonsoftwarefoundation.python.3.11_qbz5n2kfra8p0\\localcache\\local-packages\\python311\\site-packages (from sentence_transformers) (1.26.4)\n",
      "Collecting scikit-learn (from sentence_transformers)\n",
      "  Downloading scikit_learn-1.4.1.post1-cp311-cp311-win_amd64.whl.metadata (11 kB)\n",
      "Requirement already satisfied: scipy in c:\\users\\linkiewicz_k\\appdata\\local\\packages\\pythonsoftwarefoundation.python.3.11_qbz5n2kfra8p0\\localcache\\local-packages\\python311\\site-packages (from sentence_transformers) (1.12.0)\n",
      "Requirement already satisfied: nltk in c:\\users\\linkiewicz_k\\appdata\\local\\packages\\pythonsoftwarefoundation.python.3.11_qbz5n2kfra8p0\\localcache\\local-packages\\python311\\site-packages (from sentence_transformers) (3.8.1)\n",
      "Collecting sentencepiece (from sentence_transformers)\n",
      "  Downloading sentencepiece-0.2.0-cp311-cp311-win_amd64.whl.metadata (8.3 kB)\n",
      "Requirement already satisfied: huggingface-hub>=0.15.1 in c:\\users\\linkiewicz_k\\appdata\\local\\packages\\pythonsoftwarefoundation.python.3.11_qbz5n2kfra8p0\\localcache\\local-packages\\python311\\site-packages (from sentence_transformers) (0.20.3)\n",
      "Requirement already satisfied: Pillow in c:\\users\\linkiewicz_k\\appdata\\local\\packages\\pythonsoftwarefoundation.python.3.11_qbz5n2kfra8p0\\localcache\\local-packages\\python311\\site-packages (from sentence_transformers) (10.0.1)\n",
      "Requirement already satisfied: filelock in c:\\users\\linkiewicz_k\\appdata\\local\\packages\\pythonsoftwarefoundation.python.3.11_qbz5n2kfra8p0\\localcache\\local-packages\\python311\\site-packages (from huggingface-hub>=0.15.1->sentence_transformers) (3.13.1)\n",
      "Requirement already satisfied: fsspec>=2023.5.0 in c:\\users\\linkiewicz_k\\appdata\\local\\packages\\pythonsoftwarefoundation.python.3.11_qbz5n2kfra8p0\\localcache\\local-packages\\python311\\site-packages (from huggingface-hub>=0.15.1->sentence_transformers) (2024.2.0)\n",
      "Requirement already satisfied: requests in c:\\users\\linkiewicz_k\\appdata\\local\\packages\\pythonsoftwarefoundation.python.3.11_qbz5n2kfra8p0\\localcache\\local-packages\\python311\\site-packages (from huggingface-hub>=0.15.1->sentence_transformers) (2.31.0)\n",
      "Requirement already satisfied: pyyaml>=5.1 in c:\\users\\linkiewicz_k\\appdata\\local\\packages\\pythonsoftwarefoundation.python.3.11_qbz5n2kfra8p0\\localcache\\local-packages\\python311\\site-packages (from huggingface-hub>=0.15.1->sentence_transformers) (6.0.1)\n",
      "Requirement already satisfied: typing-extensions>=3.7.4.3 in c:\\users\\linkiewicz_k\\appdata\\local\\packages\\pythonsoftwarefoundation.python.3.11_qbz5n2kfra8p0\\localcache\\local-packages\\python311\\site-packages (from huggingface-hub>=0.15.1->sentence_transformers) (4.9.0)\n",
      "Requirement already satisfied: packaging>=20.9 in c:\\users\\linkiewicz_k\\appdata\\local\\packages\\pythonsoftwarefoundation.python.3.11_qbz5n2kfra8p0\\localcache\\local-packages\\python311\\site-packages (from huggingface-hub>=0.15.1->sentence_transformers) (23.2)\n",
      "Requirement already satisfied: sympy in c:\\users\\linkiewicz_k\\appdata\\local\\packages\\pythonsoftwarefoundation.python.3.11_qbz5n2kfra8p0\\localcache\\local-packages\\python311\\site-packages (from torch>=1.11.0->sentence_transformers) (1.12)\n",
      "Requirement already satisfied: networkx in c:\\users\\linkiewicz_k\\appdata\\local\\packages\\pythonsoftwarefoundation.python.3.11_qbz5n2kfra8p0\\localcache\\local-packages\\python311\\site-packages (from torch>=1.11.0->sentence_transformers) (3.2.1)\n",
      "Requirement already satisfied: jinja2 in c:\\users\\linkiewicz_k\\appdata\\local\\packages\\pythonsoftwarefoundation.python.3.11_qbz5n2kfra8p0\\localcache\\local-packages\\python311\\site-packages (from torch>=1.11.0->sentence_transformers) (3.1.3)\n",
      "Requirement already satisfied: colorama in c:\\users\\linkiewicz_k\\appdata\\local\\packages\\pythonsoftwarefoundation.python.3.11_qbz5n2kfra8p0\\localcache\\local-packages\\python311\\site-packages (from tqdm->sentence_transformers) (0.4.6)\n",
      "Requirement already satisfied: regex!=2019.12.17 in c:\\users\\linkiewicz_k\\appdata\\local\\packages\\pythonsoftwarefoundation.python.3.11_qbz5n2kfra8p0\\localcache\\local-packages\\python311\\site-packages (from transformers<5.0.0,>=4.32.0->sentence_transformers) (2023.12.25)\n",
      "Requirement already satisfied: tokenizers<0.19,>=0.14 in c:\\users\\linkiewicz_k\\appdata\\local\\packages\\pythonsoftwarefoundation.python.3.11_qbz5n2kfra8p0\\localcache\\local-packages\\python311\\site-packages (from transformers<5.0.0,>=4.32.0->sentence_transformers) (0.15.2)\n",
      "Requirement already satisfied: safetensors>=0.4.1 in c:\\users\\linkiewicz_k\\appdata\\local\\packages\\pythonsoftwarefoundation.python.3.11_qbz5n2kfra8p0\\localcache\\local-packages\\python311\\site-packages (from transformers<5.0.0,>=4.32.0->sentence_transformers) (0.4.2)\n",
      "Requirement already satisfied: click in c:\\users\\linkiewicz_k\\appdata\\local\\packages\\pythonsoftwarefoundation.python.3.11_qbz5n2kfra8p0\\localcache\\local-packages\\python311\\site-packages (from nltk->sentence_transformers) (8.1.7)\n",
      "Requirement already satisfied: joblib in c:\\users\\linkiewicz_k\\appdata\\local\\packages\\pythonsoftwarefoundation.python.3.11_qbz5n2kfra8p0\\localcache\\local-packages\\python311\\site-packages (from nltk->sentence_transformers) (1.3.2)\n",
      "Collecting threadpoolctl>=2.0.0 (from scikit-learn->sentence_transformers)\n",
      "  Downloading threadpoolctl-3.3.0-py3-none-any.whl.metadata (13 kB)\n",
      "Requirement already satisfied: MarkupSafe>=2.0 in c:\\users\\linkiewicz_k\\appdata\\local\\packages\\pythonsoftwarefoundation.python.3.11_qbz5n2kfra8p0\\localcache\\local-packages\\python311\\site-packages (from jinja2->torch>=1.11.0->sentence_transformers) (2.1.5)\n",
      "Requirement already satisfied: charset-normalizer<4,>=2 in c:\\users\\linkiewicz_k\\appdata\\local\\packages\\pythonsoftwarefoundation.python.3.11_qbz5n2kfra8p0\\localcache\\local-packages\\python311\\site-packages (from requests->huggingface-hub>=0.15.1->sentence_transformers) (3.3.2)\n",
      "Requirement already satisfied: idna<4,>=2.5 in c:\\users\\linkiewicz_k\\appdata\\local\\packages\\pythonsoftwarefoundation.python.3.11_qbz5n2kfra8p0\\localcache\\local-packages\\python311\\site-packages (from requests->huggingface-hub>=0.15.1->sentence_transformers) (3.6)\n",
      "Requirement already satisfied: urllib3<3,>=1.21.1 in c:\\users\\linkiewicz_k\\appdata\\local\\packages\\pythonsoftwarefoundation.python.3.11_qbz5n2kfra8p0\\localcache\\local-packages\\python311\\site-packages (from requests->huggingface-hub>=0.15.1->sentence_transformers) (2.2.1)\n",
      "Requirement already satisfied: certifi>=2017.4.17 in c:\\users\\linkiewicz_k\\appdata\\local\\packages\\pythonsoftwarefoundation.python.3.11_qbz5n2kfra8p0\\localcache\\local-packages\\python311\\site-packages (from requests->huggingface-hub>=0.15.1->sentence_transformers) (2024.2.2)\n",
      "Requirement already satisfied: mpmath>=0.19 in c:\\users\\linkiewicz_k\\appdata\\local\\packages\\pythonsoftwarefoundation.python.3.11_qbz5n2kfra8p0\\localcache\\local-packages\\python311\\site-packages (from sympy->torch>=1.11.0->sentence_transformers) (1.3.0)\n",
      "Downloading sentence_transformers-2.3.1-py3-none-any.whl (132 kB)\n",
      "   ---------------------------------------- 0.0/132.8 kB ? eta -:--:--\n",
      "   ------------------ --------------------- 61.4/132.8 kB 1.6 MB/s eta 0:00:01\n",
      "   --------------------------------- ------ 112.6/132.8 kB 1.3 MB/s eta 0:00:01\n",
      "   ------------------------------------- -- 122.9/132.8 kB 1.4 MB/s eta 0:00:01\n",
      "   ---------------------------------------- 132.8/132.8 kB 1.1 MB/s eta 0:00:00\n",
      "Downloading scikit_learn-1.4.1.post1-cp311-cp311-win_amd64.whl (10.6 MB)\n",
      "   ---------------------------------------- 0.0/10.6 MB ? eta -:--:--\n",
      "   ---------------------------------------- 0.0/10.6 MB 991.0 kB/s eta 0:00:11\n",
      "   ---------------------------------------- 0.1/10.6 MB 1.1 MB/s eta 0:00:11\n",
      "   ---------------------------------------- 0.1/10.6 MB 1.0 MB/s eta 0:00:11\n",
      "   ---------------------------------------- 0.1/10.6 MB 1.0 MB/s eta 0:00:11\n",
      "    --------------------------------------- 0.2/10.6 MB 1.2 MB/s eta 0:00:09\n",
      "   - -------------------------------------- 0.3/10.6 MB 1.1 MB/s eta 0:00:10\n",
      "   - -------------------------------------- 0.3/10.6 MB 1.1 MB/s eta 0:00:10\n",
      "   - -------------------------------------- 0.4/10.6 MB 1.1 MB/s eta 0:00:09\n",
      "   - -------------------------------------- 0.4/10.6 MB 1.1 MB/s eta 0:00:09\n",
      "   - -------------------------------------- 0.4/10.6 MB 1.1 MB/s eta 0:00:09\n",
      "   -- ------------------------------------- 0.5/10.6 MB 1.2 MB/s eta 0:00:09\n",
      "   -- ------------------------------------- 0.6/10.6 MB 1.1 MB/s eta 0:00:09\n",
      "   -- ------------------------------------- 0.6/10.6 MB 1.2 MB/s eta 0:00:09\n",
      "   -- ------------------------------------- 0.7/10.6 MB 1.2 MB/s eta 0:00:09\n",
      "   -- ------------------------------------- 0.7/10.6 MB 1.1 MB/s eta 0:00:09\n",
      "   -- ------------------------------------- 0.8/10.6 MB 1.2 MB/s eta 0:00:09\n",
      "   --- ------------------------------------ 0.8/10.6 MB 1.2 MB/s eta 0:00:09\n",
      "   --- ------------------------------------ 0.9/10.6 MB 1.2 MB/s eta 0:00:09\n",
      "   --- ------------------------------------ 1.0/10.6 MB 1.2 MB/s eta 0:00:09\n",
      "   --- ------------------------------------ 1.0/10.6 MB 1.2 MB/s eta 0:00:09\n",
      "   --- ------------------------------------ 1.1/10.6 MB 1.2 MB/s eta 0:00:09\n",
      "   ---- ----------------------------------- 1.1/10.6 MB 1.2 MB/s eta 0:00:09\n",
      "   ---- ----------------------------------- 1.2/10.6 MB 1.2 MB/s eta 0:00:09\n",
      "   ---- ----------------------------------- 1.2/10.6 MB 1.2 MB/s eta 0:00:09\n",
      "   ---- ----------------------------------- 1.3/10.6 MB 1.2 MB/s eta 0:00:09\n",
      "   ---- ----------------------------------- 1.3/10.6 MB 1.2 MB/s eta 0:00:09\n",
      "   ----- ---------------------------------- 1.4/10.6 MB 1.2 MB/s eta 0:00:08\n",
      "   ----- ---------------------------------- 1.4/10.6 MB 1.2 MB/s eta 0:00:08\n",
      "   ----- ---------------------------------- 1.5/10.6 MB 1.2 MB/s eta 0:00:08\n",
      "   ----- ---------------------------------- 1.5/10.6 MB 1.2 MB/s eta 0:00:08\n",
      "   ----- ---------------------------------- 1.5/10.6 MB 1.2 MB/s eta 0:00:08\n",
      "   ------ --------------------------------- 1.6/10.6 MB 1.2 MB/s eta 0:00:08\n",
      "   ------ --------------------------------- 1.7/10.6 MB 1.2 MB/s eta 0:00:08\n",
      "   ------ --------------------------------- 1.7/10.6 MB 1.2 MB/s eta 0:00:08\n",
      "   ------ --------------------------------- 1.7/10.6 MB 1.2 MB/s eta 0:00:08\n",
      "   ------ --------------------------------- 1.8/10.6 MB 1.2 MB/s eta 0:00:08\n",
      "   ------ --------------------------------- 1.8/10.6 MB 1.1 MB/s eta 0:00:08\n",
      "   ------- -------------------------------- 1.9/10.6 MB 1.2 MB/s eta 0:00:08\n",
      "   ------- -------------------------------- 1.9/10.6 MB 1.1 MB/s eta 0:00:08\n",
      "   ------- -------------------------------- 2.0/10.6 MB 1.2 MB/s eta 0:00:08\n",
      "   ------- -------------------------------- 2.0/10.6 MB 1.1 MB/s eta 0:00:08\n",
      "   ------- -------------------------------- 2.1/10.6 MB 1.2 MB/s eta 0:00:08\n",
      "   -------- ------------------------------- 2.1/10.6 MB 1.2 MB/s eta 0:00:08\n",
      "   -------- ------------------------------- 2.2/10.6 MB 1.2 MB/s eta 0:00:08\n",
      "   -------- ------------------------------- 2.2/10.6 MB 1.2 MB/s eta 0:00:08\n",
      "   -------- ------------------------------- 2.3/10.6 MB 1.2 MB/s eta 0:00:08\n",
      "   -------- ------------------------------- 2.3/10.6 MB 1.2 MB/s eta 0:00:08\n",
      "   --------- ------------------------------ 2.4/10.6 MB 1.2 MB/s eta 0:00:08\n",
      "   --------- ------------------------------ 2.4/10.6 MB 1.2 MB/s eta 0:00:08\n",
      "   --------- ------------------------------ 2.5/10.6 MB 1.2 MB/s eta 0:00:08\n",
      "   --------- ------------------------------ 2.5/10.6 MB 1.2 MB/s eta 0:00:08\n",
      "   --------- ------------------------------ 2.6/10.6 MB 1.2 MB/s eta 0:00:08\n",
      "   --------- ------------------------------ 2.6/10.6 MB 1.1 MB/s eta 0:00:07\n",
      "   ---------- ----------------------------- 2.7/10.6 MB 1.2 MB/s eta 0:00:07\n",
      "   ---------- ----------------------------- 2.7/10.6 MB 1.2 MB/s eta 0:00:07\n",
      "   ---------- ----------------------------- 2.8/10.6 MB 1.2 MB/s eta 0:00:07\n",
      "   ---------- ----------------------------- 2.8/10.6 MB 1.2 MB/s eta 0:00:07\n",
      "   ---------- ----------------------------- 2.9/10.6 MB 1.2 MB/s eta 0:00:07\n",
      "   ---------- ----------------------------- 2.9/10.6 MB 1.2 MB/s eta 0:00:07\n",
      "   ----------- ---------------------------- 3.0/10.6 MB 1.2 MB/s eta 0:00:07\n",
      "   ----------- ---------------------------- 3.0/10.6 MB 1.2 MB/s eta 0:00:07\n",
      "   ----------- ---------------------------- 3.1/10.6 MB 1.2 MB/s eta 0:00:07\n",
      "   ----------- ---------------------------- 3.2/10.6 MB 1.2 MB/s eta 0:00:07\n",
      "   ------------ --------------------------- 3.2/10.6 MB 1.2 MB/s eta 0:00:07\n",
      "   ------------ --------------------------- 3.3/10.6 MB 1.2 MB/s eta 0:00:07\n",
      "   ------------ --------------------------- 3.3/10.6 MB 1.2 MB/s eta 0:00:07\n",
      "   ------------ --------------------------- 3.4/10.6 MB 1.2 MB/s eta 0:00:07\n",
      "   ------------ --------------------------- 3.4/10.6 MB 1.2 MB/s eta 0:00:07\n",
      "   ------------- -------------------------- 3.5/10.6 MB 1.2 MB/s eta 0:00:07\n",
      "   ------------- -------------------------- 3.5/10.6 MB 1.2 MB/s eta 0:00:07\n",
      "   ------------- -------------------------- 3.6/10.6 MB 1.2 MB/s eta 0:00:07\n",
      "   ------------- -------------------------- 3.6/10.6 MB 1.2 MB/s eta 0:00:07\n",
      "   ------------- -------------------------- 3.6/10.6 MB 1.2 MB/s eta 0:00:07\n",
      "   ------------- -------------------------- 3.7/10.6 MB 1.2 MB/s eta 0:00:06\n",
      "   -------------- ------------------------- 3.7/10.6 MB 1.2 MB/s eta 0:00:06\n",
      "   -------------- ------------------------- 3.8/10.6 MB 1.2 MB/s eta 0:00:06\n",
      "   -------------- ------------------------- 3.9/10.6 MB 1.2 MB/s eta 0:00:06\n",
      "   -------------- ------------------------- 3.9/10.6 MB 1.2 MB/s eta 0:00:06\n",
      "   -------------- ------------------------- 4.0/10.6 MB 1.2 MB/s eta 0:00:06\n",
      "   --------------- ------------------------ 4.0/10.6 MB 1.2 MB/s eta 0:00:06\n",
      "   --------------- ------------------------ 4.1/10.6 MB 1.2 MB/s eta 0:00:06\n",
      "   --------------- ------------------------ 4.1/10.6 MB 1.2 MB/s eta 0:00:06\n",
      "   --------------- ------------------------ 4.2/10.6 MB 1.2 MB/s eta 0:00:06\n",
      "   ---------------- ----------------------- 4.3/10.6 MB 1.2 MB/s eta 0:00:06\n",
      "   ---------------- ----------------------- 4.3/10.6 MB 1.2 MB/s eta 0:00:06\n",
      "   ---------------- ----------------------- 4.4/10.6 MB 1.2 MB/s eta 0:00:06\n",
      "   ---------------- ----------------------- 4.4/10.6 MB 1.2 MB/s eta 0:00:06\n",
      "   ---------------- ----------------------- 4.4/10.6 MB 1.2 MB/s eta 0:00:06\n",
      "   ---------------- ----------------------- 4.5/10.6 MB 1.2 MB/s eta 0:00:06\n",
      "   ----------------- ---------------------- 4.6/10.6 MB 1.2 MB/s eta 0:00:06\n",
      "   ----------------- ---------------------- 4.6/10.6 MB 1.2 MB/s eta 0:00:06\n",
      "   ----------------- ---------------------- 4.7/10.6 MB 1.2 MB/s eta 0:00:06\n",
      "   ----------------- ---------------------- 4.7/10.6 MB 1.2 MB/s eta 0:00:06\n",
      "   ----------------- ---------------------- 4.8/10.6 MB 1.2 MB/s eta 0:00:06\n",
      "   ------------------ --------------------- 4.8/10.6 MB 1.2 MB/s eta 0:00:06\n",
      "   ------------------ --------------------- 4.9/10.6 MB 1.2 MB/s eta 0:00:05\n",
      "   ------------------ --------------------- 4.9/10.6 MB 1.2 MB/s eta 0:00:05\n",
      "   ------------------ --------------------- 5.0/10.6 MB 1.2 MB/s eta 0:00:05\n",
      "   ------------------ --------------------- 5.0/10.6 MB 1.2 MB/s eta 0:00:05\n",
      "   ------------------- -------------------- 5.1/10.6 MB 1.2 MB/s eta 0:00:05\n",
      "   ------------------- -------------------- 5.2/10.6 MB 1.2 MB/s eta 0:00:05\n",
      "   ------------------- -------------------- 5.2/10.6 MB 1.2 MB/s eta 0:00:05\n",
      "   ------------------- -------------------- 5.3/10.6 MB 1.2 MB/s eta 0:00:05\n",
      "   ------------------- -------------------- 5.3/10.6 MB 1.2 MB/s eta 0:00:05\n",
      "   -------------------- ------------------- 5.3/10.6 MB 1.2 MB/s eta 0:00:05\n",
      "   -------------------- ------------------- 5.4/10.6 MB 1.2 MB/s eta 0:00:05\n",
      "   -------------------- ------------------- 5.5/10.6 MB 1.2 MB/s eta 0:00:05\n",
      "   -------------------- ------------------- 5.5/10.6 MB 1.2 MB/s eta 0:00:05\n",
      "   -------------------- ------------------- 5.6/10.6 MB 1.2 MB/s eta 0:00:05\n",
      "   --------------------- ------------------ 5.6/10.6 MB 1.2 MB/s eta 0:00:05\n",
      "   --------------------- ------------------ 5.7/10.6 MB 1.2 MB/s eta 0:00:05\n",
      "   --------------------- ------------------ 5.7/10.6 MB 1.2 MB/s eta 0:00:05\n",
      "   --------------------- ------------------ 5.8/10.6 MB 1.2 MB/s eta 0:00:05\n",
      "   ---------------------- ----------------- 5.9/10.6 MB 1.2 MB/s eta 0:00:05\n",
      "   ---------------------- ----------------- 5.9/10.6 MB 1.2 MB/s eta 0:00:05\n",
      "   ---------------------- ----------------- 6.0/10.6 MB 1.2 MB/s eta 0:00:05\n",
      "   ---------------------- ----------------- 6.0/10.6 MB 1.2 MB/s eta 0:00:04\n",
      "   ---------------------- ----------------- 6.1/10.6 MB 1.2 MB/s eta 0:00:04\n",
      "   ----------------------- ---------------- 6.1/10.6 MB 1.2 MB/s eta 0:00:04\n",
      "   ----------------------- ---------------- 6.2/10.6 MB 1.2 MB/s eta 0:00:04\n",
      "   ----------------------- ---------------- 6.2/10.6 MB 1.2 MB/s eta 0:00:04\n",
      "   ----------------------- ---------------- 6.3/10.6 MB 1.2 MB/s eta 0:00:04\n",
      "   ----------------------- ---------------- 6.4/10.6 MB 1.2 MB/s eta 0:00:04\n",
      "   ------------------------ --------------- 6.4/10.6 MB 1.2 MB/s eta 0:00:04\n",
      "   ------------------------ --------------- 6.5/10.6 MB 1.2 MB/s eta 0:00:04\n",
      "   ------------------------ --------------- 6.5/10.6 MB 1.2 MB/s eta 0:00:04\n",
      "   ------------------------ --------------- 6.6/10.6 MB 1.2 MB/s eta 0:00:04\n",
      "   ------------------------ --------------- 6.6/10.6 MB 1.2 MB/s eta 0:00:04\n",
      "   ------------------------- -------------- 6.7/10.6 MB 1.2 MB/s eta 0:00:04\n",
      "   ------------------------- -------------- 6.7/10.6 MB 1.2 MB/s eta 0:00:04\n",
      "   ------------------------- -------------- 6.8/10.6 MB 1.2 MB/s eta 0:00:04\n",
      "   ------------------------- -------------- 6.9/10.6 MB 1.2 MB/s eta 0:00:04\n",
      "   ------------------------- -------------- 6.9/10.6 MB 1.2 MB/s eta 0:00:04\n",
      "   -------------------------- ------------- 7.0/10.6 MB 1.2 MB/s eta 0:00:04\n",
      "   -------------------------- ------------- 7.0/10.6 MB 1.2 MB/s eta 0:00:04\n",
      "   -------------------------- ------------- 7.1/10.6 MB 1.2 MB/s eta 0:00:04\n",
      "   -------------------------- ------------- 7.1/10.6 MB 1.2 MB/s eta 0:00:04\n",
      "   -------------------------- ------------- 7.2/10.6 MB 1.2 MB/s eta 0:00:03\n",
      "   --------------------------- ------------ 7.2/10.6 MB 1.2 MB/s eta 0:00:03\n",
      "   --------------------------- ------------ 7.3/10.6 MB 1.2 MB/s eta 0:00:03\n",
      "   --------------------------- ------------ 7.3/10.6 MB 1.2 MB/s eta 0:00:03\n",
      "   --------------------------- ------------ 7.4/10.6 MB 1.2 MB/s eta 0:00:03\n",
      "   ---------------------------- ----------- 7.5/10.6 MB 1.2 MB/s eta 0:00:03\n",
      "   ---------------------------- ----------- 7.5/10.6 MB 1.2 MB/s eta 0:00:03\n",
      "   ---------------------------- ----------- 7.6/10.6 MB 1.2 MB/s eta 0:00:03\n",
      "   ---------------------------- ----------- 7.6/10.6 MB 1.2 MB/s eta 0:00:03\n",
      "   ---------------------------- ----------- 7.7/10.6 MB 1.2 MB/s eta 0:00:03\n",
      "   ---------------------------- ----------- 7.7/10.6 MB 1.2 MB/s eta 0:00:03\n",
      "   ----------------------------- ---------- 7.8/10.6 MB 1.2 MB/s eta 0:00:03\n",
      "   ----------------------------- ---------- 7.8/10.6 MB 1.2 MB/s eta 0:00:03\n",
      "   ----------------------------- ---------- 7.9/10.6 MB 1.2 MB/s eta 0:00:03\n",
      "   ----------------------------- ---------- 7.9/10.6 MB 1.2 MB/s eta 0:00:03\n",
      "   ----------------------------- ---------- 8.0/10.6 MB 1.2 MB/s eta 0:00:03\n",
      "   ------------------------------ --------- 8.0/10.6 MB 1.2 MB/s eta 0:00:03\n",
      "   ------------------------------ --------- 8.1/10.6 MB 1.2 MB/s eta 0:00:03\n",
      "   ------------------------------ --------- 8.2/10.6 MB 1.2 MB/s eta 0:00:03\n",
      "   ------------------------------ --------- 8.2/10.6 MB 1.2 MB/s eta 0:00:03\n",
      "   ------------------------------- -------- 8.3/10.6 MB 1.2 MB/s eta 0:00:03\n",
      "   ------------------------------- -------- 8.3/10.6 MB 1.2 MB/s eta 0:00:02\n",
      "   ------------------------------- -------- 8.4/10.6 MB 1.2 MB/s eta 0:00:02\n",
      "   ------------------------------- -------- 8.4/10.6 MB 1.2 MB/s eta 0:00:02\n",
      "   ------------------------------- -------- 8.5/10.6 MB 1.2 MB/s eta 0:00:02\n",
      "   -------------------------------- ------- 8.5/10.6 MB 1.2 MB/s eta 0:00:02\n",
      "   -------------------------------- ------- 8.6/10.6 MB 1.2 MB/s eta 0:00:02\n",
      "   -------------------------------- ------- 8.7/10.6 MB 1.2 MB/s eta 0:00:02\n",
      "   -------------------------------- ------- 8.7/10.6 MB 1.2 MB/s eta 0:00:02\n",
      "   --------------------------------- ------ 8.8/10.6 MB 1.2 MB/s eta 0:00:02\n",
      "   --------------------------------- ------ 8.8/10.6 MB 1.2 MB/s eta 0:00:02\n",
      "   --------------------------------- ------ 8.9/10.6 MB 1.2 MB/s eta 0:00:02\n",
      "   --------------------------------- ------ 8.9/10.6 MB 1.2 MB/s eta 0:00:02\n",
      "   --------------------------------- ------ 9.0/10.6 MB 1.2 MB/s eta 0:00:02\n",
      "   ---------------------------------- ----- 9.1/10.6 MB 1.2 MB/s eta 0:00:02\n",
      "   ---------------------------------- ----- 9.1/10.6 MB 1.2 MB/s eta 0:00:02\n",
      "   ---------------------------------- ----- 9.2/10.6 MB 1.2 MB/s eta 0:00:02\n",
      "   ---------------------------------- ----- 9.2/10.6 MB 1.2 MB/s eta 0:00:02\n",
      "   ---------------------------------- ----- 9.3/10.6 MB 1.2 MB/s eta 0:00:02\n",
      "   ----------------------------------- ---- 9.3/10.6 MB 1.2 MB/s eta 0:00:02\n",
      "   ----------------------------------- ---- 9.4/10.6 MB 1.2 MB/s eta 0:00:02\n",
      "   ----------------------------------- ---- 9.5/10.6 MB 1.2 MB/s eta 0:00:02\n",
      "   ----------------------------------- ---- 9.5/10.6 MB 1.2 MB/s eta 0:00:01\n",
      "   ----------------------------------- ---- 9.6/10.6 MB 1.2 MB/s eta 0:00:01\n",
      "   ------------------------------------ --- 9.6/10.6 MB 1.2 MB/s eta 0:00:01\n",
      "   ------------------------------------ --- 9.7/10.6 MB 1.2 MB/s eta 0:00:01\n",
      "   ------------------------------------ --- 9.7/10.6 MB 1.2 MB/s eta 0:00:01\n",
      "   ------------------------------------ --- 9.8/10.6 MB 1.2 MB/s eta 0:00:01\n",
      "   ------------------------------------ --- 9.8/10.6 MB 1.2 MB/s eta 0:00:01\n",
      "   ------------------------------------- -- 9.9/10.6 MB 1.2 MB/s eta 0:00:01\n",
      "   ------------------------------------- -- 10.0/10.6 MB 1.2 MB/s eta 0:00:01\n",
      "   ------------------------------------- -- 10.0/10.6 MB 1.2 MB/s eta 0:00:01\n",
      "   ------------------------------------- -- 10.1/10.6 MB 1.2 MB/s eta 0:00:01\n",
      "   -------------------------------------- - 10.1/10.6 MB 1.2 MB/s eta 0:00:01\n",
      "   -------------------------------------- - 10.2/10.6 MB 1.2 MB/s eta 0:00:01\n",
      "   -------------------------------------- - 10.2/10.6 MB 1.2 MB/s eta 0:00:01\n",
      "   -------------------------------------- - 10.3/10.6 MB 1.2 MB/s eta 0:00:01\n",
      "   -------------------------------------- - 10.3/10.6 MB 1.2 MB/s eta 0:00:01\n",
      "   -------------------------------------- - 10.4/10.6 MB 1.2 MB/s eta 0:00:01\n",
      "   ---------------------------------------  10.4/10.6 MB 1.2 MB/s eta 0:00:01\n",
      "   ---------------------------------------  10.5/10.6 MB 1.2 MB/s eta 0:00:01\n",
      "   ---------------------------------------  10.5/10.6 MB 1.2 MB/s eta 0:00:01\n",
      "   ---------------------------------------  10.6/10.6 MB 1.2 MB/s eta 0:00:01\n",
      "   ---------------------------------------  10.6/10.6 MB 1.2 MB/s eta 0:00:01\n",
      "   ---------------------------------------  10.6/10.6 MB 1.2 MB/s eta 0:00:01\n",
      "   ---------------------------------------  10.6/10.6 MB 1.2 MB/s eta 0:00:01\n",
      "   ---------------------------------------  10.6/10.6 MB 1.2 MB/s eta 0:00:01\n",
      "   ---------------------------------------  10.6/10.6 MB 1.2 MB/s eta 0:00:01\n",
      "   ---------------------------------------  10.6/10.6 MB 1.2 MB/s eta 0:00:01\n",
      "   ---------------------------------------  10.6/10.6 MB 1.2 MB/s eta 0:00:01\n",
      "   ---------------------------------------  10.6/10.6 MB 1.2 MB/s eta 0:00:01\n",
      "   ---------------------------------------  10.6/10.6 MB 1.2 MB/s eta 0:00:01\n",
      "   ---------------------------------------  10.6/10.6 MB 1.2 MB/s eta 0:00:01\n",
      "   ---------------------------------------  10.6/10.6 MB 1.2 MB/s eta 0:00:01\n",
      "   ---------------------------------------  10.6/10.6 MB 1.2 MB/s eta 0:00:01\n",
      "   ---------------------------------------- 10.6/10.6 MB 1.1 MB/s eta 0:00:00\n",
      "Downloading sentencepiece-0.2.0-cp311-cp311-win_amd64.whl (991 kB)\n",
      "   ---------------------------------------- 0.0/991.5 kB ? eta -:--:--\n",
      "   - ------------------------------------- 41.0/991.5 kB 991.0 kB/s eta 0:00:01\n",
      "   --- ------------------------------------ 92.2/991.5 kB 1.3 MB/s eta 0:00:01\n",
      "   ------ --------------------------------- 153.6/991.5 kB 1.1 MB/s eta 0:00:01\n",
      "   -------- ------------------------------- 204.8/991.5 kB 1.1 MB/s eta 0:00:01\n",
      "   ---------- ----------------------------- 256.0/991.5 kB 1.1 MB/s eta 0:00:01\n",
      "   ----------- ---------------------------- 286.7/991.5 kB 1.0 MB/s eta 0:00:01\n",
      "   ------------- -------------------------- 337.9/991.5 kB 1.1 MB/s eta 0:00:01\n",
      "   ---------------- ----------------------- 409.6/991.5 kB 1.1 MB/s eta 0:00:01\n",
      "   ------------------ --------------------- 460.8/991.5 kB 1.1 MB/s eta 0:00:01\n",
      "   -------------------- ------------------- 512.0/991.5 kB 1.1 MB/s eta 0:00:01\n",
      "   ----------------------- ---------------- 573.4/991.5 kB 1.1 MB/s eta 0:00:01\n",
      "   ------------------------- -------------- 624.6/991.5 kB 1.1 MB/s eta 0:00:01\n",
      "   --------------------------- ------------ 675.8/991.5 kB 1.1 MB/s eta 0:00:01\n",
      "   ----------------------------- ---------- 727.0/991.5 kB 1.1 MB/s eta 0:00:01\n",
      "   ------------------------------- -------- 778.2/991.5 kB 1.1 MB/s eta 0:00:01\n",
      "   --------------------------------- ------ 839.7/991.5 kB 1.1 MB/s eta 0:00:01\n",
      "   ----------------------------------- ---- 890.9/991.5 kB 1.1 MB/s eta 0:00:01\n",
      "   -------------------------------------- - 942.1/991.5 kB 1.1 MB/s eta 0:00:01\n",
      "   ---------------------------------------  983.0/991.5 kB 1.1 MB/s eta 0:00:01\n",
      "   ---------------------------------------  983.0/991.5 kB 1.1 MB/s eta 0:00:01\n",
      "   ---------------------------------------- 991.5/991.5 kB 1.0 MB/s eta 0:00:00\n",
      "Downloading threadpoolctl-3.3.0-py3-none-any.whl (17 kB)\n",
      "Installing collected packages: sentencepiece, threadpoolctl, scikit-learn, sentence_transformers\n",
      "Successfully installed scikit-learn-1.4.1.post1 sentence_transformers-2.3.1 sentencepiece-0.2.0 threadpoolctl-3.3.0\n",
      "Note: you may need to restart the kernel to use updated packages.\n"
     ]
    }
   ],
   "source": [
    "%pip install sentence_transformers"
   ]
  },
  {
   "cell_type": "code",
   "execution_count": 16,
   "metadata": {},
   "outputs": [
    {
     "data": {
      "application/vnd.jupyter.widget-view+json": {
       "model_id": "8df4d049b341403eae63eb265ebe79f1",
       "version_major": 2,
       "version_minor": 0
      },
      "text/plain": [
       "modules.json:   0%|          | 0.00/349 [00:00<?, ?B/s]"
      ]
     },
     "metadata": {},
     "output_type": "display_data"
    },
    {
     "name": "stderr",
     "output_type": "stream",
     "text": [
      "C:\\Users\\linkiewicz_k\\AppData\\Local\\Packages\\PythonSoftwareFoundation.Python.3.11_qbz5n2kfra8p0\\LocalCache\\local-packages\\Python311\\site-packages\\huggingface_hub\\file_download.py:149: UserWarning: `huggingface_hub` cache-system uses symlinks by default to efficiently store duplicated files but your machine does not support them in C:\\Users\\linkiewicz_k\\.cache\\huggingface\\hub\\models--sentence-transformers--all-mpnet-base-v2. Caching files will still work but in a degraded version that might require more space on your disk. This warning can be disabled by setting the `HF_HUB_DISABLE_SYMLINKS_WARNING` environment variable. For more details, see https://huggingface.co/docs/huggingface_hub/how-to-cache#limitations.\n",
      "To support symlinks on Windows, you either need to activate Developer Mode or to run Python as an administrator. In order to see activate developer mode, see this article: https://docs.microsoft.com/en-us/windows/apps/get-started/enable-your-device-for-development\n",
      "  warnings.warn(message)\n"
     ]
    },
    {
     "data": {
      "application/vnd.jupyter.widget-view+json": {
       "model_id": "0fbc28594b7442f1b928ec36f0117212",
       "version_major": 2,
       "version_minor": 0
      },
      "text/plain": [
       "config_sentence_transformers.json:   0%|          | 0.00/116 [00:00<?, ?B/s]"
      ]
     },
     "metadata": {},
     "output_type": "display_data"
    },
    {
     "data": {
      "application/vnd.jupyter.widget-view+json": {
       "model_id": "e55eecaab6524e94ba94f805619b6599",
       "version_major": 2,
       "version_minor": 0
      },
      "text/plain": [
       "README.md:   0%|          | 0.00/10.6k [00:00<?, ?B/s]"
      ]
     },
     "metadata": {},
     "output_type": "display_data"
    },
    {
     "data": {
      "application/vnd.jupyter.widget-view+json": {
       "model_id": "98454b5e136047318e6c884c6c17f053",
       "version_major": 2,
       "version_minor": 0
      },
      "text/plain": [
       "sentence_bert_config.json:   0%|          | 0.00/53.0 [00:00<?, ?B/s]"
      ]
     },
     "metadata": {},
     "output_type": "display_data"
    },
    {
     "data": {
      "application/vnd.jupyter.widget-view+json": {
       "model_id": "1be8e49b474e48c2aaec2a9b4969e701",
       "version_major": 2,
       "version_minor": 0
      },
      "text/plain": [
       "config.json:   0%|          | 0.00/571 [00:00<?, ?B/s]"
      ]
     },
     "metadata": {},
     "output_type": "display_data"
    },
    {
     "data": {
      "application/vnd.jupyter.widget-view+json": {
       "model_id": "7db41629cbd74ceaad2be5e2e5f854a0",
       "version_major": 2,
       "version_minor": 0
      },
      "text/plain": [
       "pytorch_model.bin:   0%|          | 0.00/438M [00:00<?, ?B/s]"
      ]
     },
     "metadata": {},
     "output_type": "display_data"
    },
    {
     "data": {
      "application/vnd.jupyter.widget-view+json": {
       "model_id": "e6f7ff623a6f48d4bffc420ac9e27124",
       "version_major": 2,
       "version_minor": 0
      },
      "text/plain": [
       "tokenizer_config.json:   0%|          | 0.00/363 [00:00<?, ?B/s]"
      ]
     },
     "metadata": {},
     "output_type": "display_data"
    },
    {
     "data": {
      "application/vnd.jupyter.widget-view+json": {
       "model_id": "01a7acadad804be998f90038e5cf6d29",
       "version_major": 2,
       "version_minor": 0
      },
      "text/plain": [
       "vocab.txt:   0%|          | 0.00/232k [00:00<?, ?B/s]"
      ]
     },
     "metadata": {},
     "output_type": "display_data"
    },
    {
     "data": {
      "application/vnd.jupyter.widget-view+json": {
       "model_id": "6090ea3aed974401b7acfe10aadd3cd9",
       "version_major": 2,
       "version_minor": 0
      },
      "text/plain": [
       "tokenizer.json:   0%|          | 0.00/466k [00:00<?, ?B/s]"
      ]
     },
     "metadata": {},
     "output_type": "display_data"
    },
    {
     "data": {
      "application/vnd.jupyter.widget-view+json": {
       "model_id": "d35d1dab0edc47419a74e9c39f789655",
       "version_major": 2,
       "version_minor": 0
      },
      "text/plain": [
       "special_tokens_map.json:   0%|          | 0.00/239 [00:00<?, ?B/s]"
      ]
     },
     "metadata": {},
     "output_type": "display_data"
    },
    {
     "data": {
      "application/vnd.jupyter.widget-view+json": {
       "model_id": "f933da89af0d4ab8b7e2b4525a07ae0b",
       "version_major": 2,
       "version_minor": 0
      },
      "text/plain": [
       "1_Pooling/config.json:   0%|          | 0.00/190 [00:00<?, ?B/s]"
      ]
     },
     "metadata": {},
     "output_type": "display_data"
    },
    {
     "name": "stdout",
     "output_type": "stream",
     "text": [
      "2\n"
     ]
    }
   ],
   "source": [
    "from langchain.text_splitter import SentenceTransformersTokenTextSplitter\n",
    "\n",
    "splitter = SentenceTransformersTokenTextSplitter(chunk_overlap=0)\n",
    "text = \"Lorem \"\n",
    "\n",
    "count_start_and_stop_tokens = 2\n",
    "text_token_count = splitter.count_tokens(text=text) - count_start_and_stop_tokens\n",
    "print(text_token_count)"
   ]
  },
  {
   "cell_type": "code",
   "execution_count": 17,
   "metadata": {},
   "outputs": [
    {
     "name": "stdout",
     "output_type": "stream",
     "text": [
      "tokens in text to split: 388\n"
     ]
    }
   ],
   "source": [
    "token_multiplier = splitter.maximum_tokens_per_chunk // text_token_count + 1\n",
    "\n",
    "# `text_to_split` does not fit in a single chunk\n",
    "text_to_split = text * token_multiplier\n",
    "\n",
    "print(f\"tokens in text to split: {splitter.count_tokens(text=text_to_split)}\")"
   ]
  },
  {
   "cell_type": "code",
   "execution_count": 18,
   "metadata": {},
   "outputs": [
    {
     "name": "stdout",
     "output_type": "stream",
     "text": [
      "lorem\n"
     ]
    }
   ],
   "source": [
    "text_chunks = splitter.split_text(text=text_to_split)\n",
    "\n",
    "print(text_chunks[1])"
   ]
  },
  {
   "cell_type": "markdown",
   "metadata": {},
   "source": [
    "# NLTK"
   ]
  },
  {
   "cell_type": "code",
   "execution_count": 19,
   "metadata": {},
   "outputs": [
    {
     "name": "stdout",
     "output_type": "stream",
     "text": [
      "Requirement already satisfied: nltk in c:\\users\\linkiewicz_k\\appdata\\local\\packages\\pythonsoftwarefoundation.python.3.11_qbz5n2kfra8p0\\localcache\\local-packages\\python311\\site-packages (3.8.1)\n",
      "Requirement already satisfied: click in c:\\users\\linkiewicz_k\\appdata\\local\\packages\\pythonsoftwarefoundation.python.3.11_qbz5n2kfra8p0\\localcache\\local-packages\\python311\\site-packages (from nltk) (8.1.7)\n",
      "Requirement already satisfied: joblib in c:\\users\\linkiewicz_k\\appdata\\local\\packages\\pythonsoftwarefoundation.python.3.11_qbz5n2kfra8p0\\localcache\\local-packages\\python311\\site-packages (from nltk) (1.3.2)\n",
      "Requirement already satisfied: regex>=2021.8.3 in c:\\users\\linkiewicz_k\\appdata\\local\\packages\\pythonsoftwarefoundation.python.3.11_qbz5n2kfra8p0\\localcache\\local-packages\\python311\\site-packages (from nltk) (2023.12.25)\n",
      "Requirement already satisfied: tqdm in c:\\users\\linkiewicz_k\\appdata\\local\\packages\\pythonsoftwarefoundation.python.3.11_qbz5n2kfra8p0\\localcache\\local-packages\\python311\\site-packages (from nltk) (4.66.2)\n",
      "Requirement already satisfied: colorama in c:\\users\\linkiewicz_k\\appdata\\local\\packages\\pythonsoftwarefoundation.python.3.11_qbz5n2kfra8p0\\localcache\\local-packages\\python311\\site-packages (from click->nltk) (0.4.6)\n",
      "Note: you may need to restart the kernel to use updated packages.\n"
     ]
    }
   ],
   "source": [
    "%pip install nltk"
   ]
  },
  {
   "cell_type": "code",
   "execution_count": 20,
   "metadata": {},
   "outputs": [
    {
     "name": "stdout",
     "output_type": "stream",
     "text": [
      "Madame Speaker, Vice President Biden, members of Congress, distinguished guests, and fellow Americans:\n",
      "\n",
      "Our Constitution declares that from time to time, the president shall give to Congress information about the state of our union.\n",
      "\n",
      "For 220 years, our leaders have fulfilled this duty.\n",
      "\n",
      "They have done so during periods of prosperity and tranquility.\n",
      "\n",
      "And they have done so in the midst of war and depression; at moments of great strife and great struggle.\n",
      "\n",
      "It's tempting to look back on these moments and assume that our progress was inevitable, that America was always destined to succeed.\n",
      "\n",
      "But when the Union was turned back at Bull Run and the Allies first landed at Omaha Beach, victory was very much in doubt.\n",
      "\n",
      "When the market crashed on Black Tuesday and civil rights marchers were beaten on Bloody Sunday, the future was anything but certain.\n",
      "\n",
      "These were times that tested the courage of our convictions and the strength of our union.\n"
     ]
    }
   ],
   "source": [
    "# This is a long document we can split up.\n",
    "with open(\"example_data/state_of_the_union.txt\") as f:\n",
    "    state_of_the_union = f.read()\n",
    "\n",
    "from langchain.text_splitter import NLTKTextSplitter\n",
    "\n",
    "text_splitter = NLTKTextSplitter(chunk_size=1000)\n",
    "\n",
    "texts = text_splitter.split_text(state_of_the_union)\n",
    "print(texts[0])\n"
   ]
  },
  {
   "cell_type": "markdown",
   "metadata": {},
   "source": [
    "# Hugging Face tokenizer"
   ]
  },
  {
   "cell_type": "code",
   "execution_count": 21,
   "metadata": {},
   "outputs": [
    {
     "data": {
      "application/vnd.jupyter.widget-view+json": {
       "model_id": "c45bb3c6b7484dcca7233a0c8f4dba4b",
       "version_major": 2,
       "version_minor": 0
      },
      "text/plain": [
       "tokenizer_config.json:   0%|          | 0.00/26.0 [00:00<?, ?B/s]"
      ]
     },
     "metadata": {},
     "output_type": "display_data"
    },
    {
     "name": "stderr",
     "output_type": "stream",
     "text": [
      "C:\\Users\\linkiewicz_k\\AppData\\Local\\Packages\\PythonSoftwareFoundation.Python.3.11_qbz5n2kfra8p0\\LocalCache\\local-packages\\Python311\\site-packages\\huggingface_hub\\file_download.py:149: UserWarning: `huggingface_hub` cache-system uses symlinks by default to efficiently store duplicated files but your machine does not support them in C:\\Users\\linkiewicz_k\\.cache\\huggingface\\hub\\models--gpt2. Caching files will still work but in a degraded version that might require more space on your disk. This warning can be disabled by setting the `HF_HUB_DISABLE_SYMLINKS_WARNING` environment variable. For more details, see https://huggingface.co/docs/huggingface_hub/how-to-cache#limitations.\n",
      "To support symlinks on Windows, you either need to activate Developer Mode or to run Python as an administrator. In order to see activate developer mode, see this article: https://docs.microsoft.com/en-us/windows/apps/get-started/enable-your-device-for-development\n",
      "  warnings.warn(message)\n"
     ]
    },
    {
     "data": {
      "application/vnd.jupyter.widget-view+json": {
       "model_id": "7ae3ce1ba8404612aefec48174025d9f",
       "version_major": 2,
       "version_minor": 0
      },
      "text/plain": [
       "vocab.json:   0%|          | 0.00/1.04M [00:00<?, ?B/s]"
      ]
     },
     "metadata": {},
     "output_type": "display_data"
    },
    {
     "data": {
      "application/vnd.jupyter.widget-view+json": {
       "model_id": "661ca20c66ac48dcb431109fd496b0e4",
       "version_major": 2,
       "version_minor": 0
      },
      "text/plain": [
       "merges.txt:   0%|          | 0.00/456k [00:00<?, ?B/s]"
      ]
     },
     "metadata": {},
     "output_type": "display_data"
    },
    {
     "data": {
      "application/vnd.jupyter.widget-view+json": {
       "model_id": "312584f0bf3b48ae8a403a75c19ee127",
       "version_major": 2,
       "version_minor": 0
      },
      "text/plain": [
       "tokenizer.json:   0%|          | 0.00/1.36M [00:00<?, ?B/s]"
      ]
     },
     "metadata": {},
     "output_type": "display_data"
    },
    {
     "data": {
      "application/vnd.jupyter.widget-view+json": {
       "model_id": "cc4c33e32f994ec3917ad5da4fe3c0f5",
       "version_major": 2,
       "version_minor": 0
      },
      "text/plain": [
       "config.json:   0%|          | 0.00/665 [00:00<?, ?B/s]"
      ]
     },
     "metadata": {},
     "output_type": "display_data"
    }
   ],
   "source": [
    "from transformers import GPT2TokenizerFast\n",
    "\n",
    "tokenizer = GPT2TokenizerFast.from_pretrained(\"gpt2\")"
   ]
  },
  {
   "cell_type": "code",
   "execution_count": 22,
   "metadata": {},
   "outputs": [
    {
     "name": "stderr",
     "output_type": "stream",
     "text": [
      "Created a chunk of size 123, which is longer than the specified 100\n",
      "Created a chunk of size 104, which is longer than the specified 100\n",
      "Created a chunk of size 109, which is longer than the specified 100\n",
      "Created a chunk of size 106, which is longer than the specified 100\n",
      "Created a chunk of size 129, which is longer than the specified 100\n",
      "Created a chunk of size 111, which is longer than the specified 100\n",
      "Created a chunk of size 118, which is longer than the specified 100\n",
      "Created a chunk of size 132, which is longer than the specified 100\n",
      "Created a chunk of size 231, which is longer than the specified 100\n",
      "Created a chunk of size 177, which is longer than the specified 100\n",
      "Created a chunk of size 112, which is longer than the specified 100\n",
      "Created a chunk of size 130, which is longer than the specified 100\n",
      "Created a chunk of size 116, which is longer than the specified 100\n",
      "Created a chunk of size 184, which is longer than the specified 100\n",
      "Created a chunk of size 139, which is longer than the specified 100\n",
      "Created a chunk of size 112, which is longer than the specified 100\n",
      "Created a chunk of size 151, which is longer than the specified 100\n",
      "Created a chunk of size 203, which is longer than the specified 100\n",
      "Created a chunk of size 138, which is longer than the specified 100\n",
      "Created a chunk of size 123, which is longer than the specified 100\n",
      "Created a chunk of size 213, which is longer than the specified 100\n",
      "Created a chunk of size 134, which is longer than the specified 100\n",
      "Created a chunk of size 130, which is longer than the specified 100\n",
      "Created a chunk of size 125, which is longer than the specified 100\n",
      "Created a chunk of size 139, which is longer than the specified 100\n",
      "Created a chunk of size 111, which is longer than the specified 100\n",
      "Created a chunk of size 130, which is longer than the specified 100\n",
      "Created a chunk of size 124, which is longer than the specified 100\n"
     ]
    },
    {
     "name": "stdout",
     "output_type": "stream",
     "text": [
      "Madame Speaker, Vice President Biden, members of Congress, distinguished guests, and fellow Americans:\n",
      "\n",
      "Our Constitution declares that from time to time, the president shall give to Congress information about the state of our union. For 220 years, our leaders have fulfilled this duty. They have done so during periods of prosperity and tranquility. And they have done so in the midst of war and depression; at moments of great strife and great struggle.\n"
     ]
    }
   ],
   "source": [
    "# This is a long document we can split up.\n",
    "with open(\"example_data/state_of_the_union.txt\") as f:\n",
    "    state_of_the_union = f.read()\n",
    "\n",
    "from langchain.text_splitter import CharacterTextSplitter\n",
    "\n",
    "text_splitter = CharacterTextSplitter.from_huggingface_tokenizer(\n",
    "    tokenizer, chunk_size=100, chunk_overlap=0\n",
    ")\n",
    "texts = text_splitter.split_text(state_of_the_union)\n",
    "\n",
    "print(texts[0])"
   ]
  }
 ],
 "metadata": {
  "kernelspec": {
   "display_name": "Python 3",
   "language": "python",
   "name": "python3"
  },
  "language_info": {
   "codemirror_mode": {
    "name": "ipython",
    "version": 3
   },
   "file_extension": ".py",
   "mimetype": "text/x-python",
   "name": "python",
   "nbconvert_exporter": "python",
   "pygments_lexer": "ipython3",
   "version": "3.11.8"
  }
 },
 "nbformat": 4,
 "nbformat_minor": 2
}
